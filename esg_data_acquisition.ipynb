{
 "cells": [
  {
   "cell_type": "markdown",
   "id": "24481911",
   "metadata": {},
   "source": [
    "# Code for extracing ESG data for S&P 500 from Yahoo Finance"
   ]
  },
  {
   "cell_type": "code",
   "execution_count": 3,
   "id": "df289a62",
   "metadata": {},
   "outputs": [],
   "source": [
    "# import yfinance, pandas and os\n",
    "import yfinance as yf\n",
    "import pandas as pd\n",
    "import os"
   ]
  },
  {
   "cell_type": "code",
   "execution_count": 7,
   "id": "117697d8",
   "metadata": {},
   "outputs": [
    {
     "data": {
      "text/html": [
       "<div>\n",
       "<style scoped>\n",
       "    .dataframe tbody tr th:only-of-type {\n",
       "        vertical-align: middle;\n",
       "    }\n",
       "\n",
       "    .dataframe tbody tr th {\n",
       "        vertical-align: top;\n",
       "    }\n",
       "\n",
       "    .dataframe thead th {\n",
       "        text-align: right;\n",
       "    }\n",
       "</style>\n",
       "<table border=\"1\" class=\"dataframe\">\n",
       "  <thead>\n",
       "    <tr style=\"text-align: right;\">\n",
       "      <th>2022-2</th>\n",
       "      <th>palmOil</th>\n",
       "      <th>controversialWeapons</th>\n",
       "      <th>gambling</th>\n",
       "      <th>socialScore</th>\n",
       "      <th>nuclear</th>\n",
       "      <th>furLeather</th>\n",
       "      <th>alcoholic</th>\n",
       "      <th>gmo</th>\n",
       "      <th>catholic</th>\n",
       "      <th>socialPercentile</th>\n",
       "      <th>...</th>\n",
       "      <th>coal</th>\n",
       "      <th>pesticides</th>\n",
       "      <th>adult</th>\n",
       "      <th>percentile</th>\n",
       "      <th>peerGroup</th>\n",
       "      <th>smallArms</th>\n",
       "      <th>environmentScore</th>\n",
       "      <th>governancePercentile</th>\n",
       "      <th>militaryContract</th>\n",
       "      <th>company_ticker</th>\n",
       "    </tr>\n",
       "  </thead>\n",
       "  <tbody>\n",
       "    <tr>\n",
       "      <th>Value</th>\n",
       "      <td>False</td>\n",
       "      <td>False</td>\n",
       "      <td>False</td>\n",
       "      <td>9.72</td>\n",
       "      <td>False</td>\n",
       "      <td>False</td>\n",
       "      <td>False</td>\n",
       "      <td>False</td>\n",
       "      <td>False</td>\n",
       "      <td>None</td>\n",
       "      <td>...</td>\n",
       "      <td>False</td>\n",
       "      <td>False</td>\n",
       "      <td>False</td>\n",
       "      <td>32.62</td>\n",
       "      <td>Food Products</td>\n",
       "      <td>False</td>\n",
       "      <td>7.88</td>\n",
       "      <td>None</td>\n",
       "      <td>False</td>\n",
       "      <td>KO</td>\n",
       "    </tr>\n",
       "  </tbody>\n",
       "</table>\n",
       "<p>1 rows × 28 columns</p>\n",
       "</div>"
      ],
      "text/plain": [
       "2022-2 palmOil controversialWeapons gambling socialScore nuclear furLeather  \\\n",
       "Value    False                False    False        9.72   False      False   \n",
       "\n",
       "2022-2 alcoholic    gmo catholic socialPercentile  ...   coal pesticides  \\\n",
       "Value      False  False    False             None  ...  False      False   \n",
       "\n",
       "2022-2  adult percentile      peerGroup smallArms environmentScore  \\\n",
       "Value   False      32.62  Food Products     False             7.88   \n",
       "\n",
       "2022-2 governancePercentile militaryContract company_ticker  \n",
       "Value                  None            False             KO  \n",
       "\n",
       "[1 rows x 28 columns]"
      ]
     },
     "execution_count": 7,
     "metadata": {},
     "output_type": "execute_result"
    }
   ],
   "source": [
    "#Example code for singe ticker data download to show factors available\n",
    "cola = \"KO\"\n",
    "cola_y = yf.Ticker(cola)\n",
    "esg_data = pd.DataFrame.transpose(cola_y.sustainability)\n",
    "esg_data['company_ticker'] = str(cola_y.ticker)\n",
    "esg_data.head()"
   ]
  },
  {
   "cell_type": "code",
   "execution_count": null,
   "id": "4166a40d",
   "metadata": {},
   "outputs": [],
   "source": [
    "# Import list of tickers from csv file\n",
    "os.chdir(\"C:\\...\")\n",
    "sp500 = pd.read_csv('tickers.csv')\n",
    "# Retrieve Yahoo! Finance Sustainability Scores for each ticker\n",
    "for i in sp500['ticker_code']:\n",
    "    # print(i)\n",
    "    i_y = yf.Ticker(i)\n",
    "    try:\n",
    "        if i_y.sustainability is not None:\n",
    "            temp = pd.DataFrame.transpose(i_y.sustainability)\n",
    "            temp['company_ticker'] = str(i_y.ticker)\n",
    "            # print(temp)\n",
    "            esg_data = esg_data.append(temp)\n",
    "    except IndexError:\n",
    "        pass"
   ]
  },
  {
   "cell_type": "code",
   "execution_count": null,
   "id": "ec19ae89",
   "metadata": {},
   "outputs": [],
   "source": [
    "# Save data frame as CSV for later use\n",
    "esg_data.to_csv(‘sp500_sustainability_scores.csv’, encoding=’utf-8')"
   ]
  },
  {
   "cell_type": "markdown",
   "id": "6726b99c",
   "metadata": {},
   "source": []
  }
 ],
 "metadata": {
  "kernelspec": {
   "display_name": "Python (dev)",
   "language": "python",
   "name": "dev"
  },
  "language_info": {
   "codemirror_mode": {
    "name": "ipython",
    "version": 3
   },
   "file_extension": ".py",
   "mimetype": "text/x-python",
   "name": "python",
   "nbconvert_exporter": "python",
   "pygments_lexer": "ipython3",
   "version": "3.7.11"
  }
 },
 "nbformat": 4,
 "nbformat_minor": 5
}
