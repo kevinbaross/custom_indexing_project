{
 "cells": [
  {
   "cell_type": "code",
   "execution_count": 1,
   "id": "d3e5b7d4-2bc2-4e14-a0d9-130dc338be3c",
   "metadata": {},
   "outputs": [],
   "source": [
    "import pandas as pd\n",
    "from pathlib import Path\n",
    "import matplotlib as plt\n",
    "import numpy as np\n",
    "import sqlalchemy\n",
    "import yfinance as yf\n",
    "import yahoo_fin.stock_info as si\n",
    "import os\n",
    "import panel as pn\n"
   ]
  },
  {
   "cell_type": "code",
   "execution_count": 2,
   "id": "ee256ba3-062c-453e-86d9-2846602721da",
   "metadata": {},
   "outputs": [
    {
     "data": {
      "text/html": [
       "<div>\n",
       "<style scoped>\n",
       "    .dataframe tbody tr th:only-of-type {\n",
       "        vertical-align: middle;\n",
       "    }\n",
       "\n",
       "    .dataframe tbody tr th {\n",
       "        vertical-align: top;\n",
       "    }\n",
       "\n",
       "    .dataframe thead th {\n",
       "        text-align: right;\n",
       "    }\n",
       "</style>\n",
       "<table border=\"1\" class=\"dataframe\">\n",
       "  <thead>\n",
       "    <tr style=\"text-align: right;\">\n",
       "      <th></th>\n",
       "      <th>Unnamed: 0</th>\n",
       "      <th>palmOil</th>\n",
       "      <th>controversialWeapons</th>\n",
       "      <th>gambling</th>\n",
       "      <th>socialScore</th>\n",
       "      <th>nuclear</th>\n",
       "      <th>furLeather</th>\n",
       "      <th>alcoholic</th>\n",
       "      <th>gmo</th>\n",
       "      <th>catholic</th>\n",
       "      <th>...</th>\n",
       "      <th>coal</th>\n",
       "      <th>pesticides</th>\n",
       "      <th>adult</th>\n",
       "      <th>percentile</th>\n",
       "      <th>peerGroup</th>\n",
       "      <th>smallArms</th>\n",
       "      <th>environmentScore</th>\n",
       "      <th>governancePercentile</th>\n",
       "      <th>militaryContract</th>\n",
       "      <th>company_ticker</th>\n",
       "    </tr>\n",
       "  </thead>\n",
       "  <tbody>\n",
       "    <tr>\n",
       "      <th>0</th>\n",
       "      <td>Value</td>\n",
       "      <td>False</td>\n",
       "      <td>False</td>\n",
       "      <td>False</td>\n",
       "      <td>8.65</td>\n",
       "      <td>False</td>\n",
       "      <td>False</td>\n",
       "      <td>False</td>\n",
       "      <td>False</td>\n",
       "      <td>True</td>\n",
       "      <td>...</td>\n",
       "      <td>False</td>\n",
       "      <td>False</td>\n",
       "      <td>False</td>\n",
       "      <td>10.48</td>\n",
       "      <td>Pharmaceuticals</td>\n",
       "      <td>False</td>\n",
       "      <td>0.34</td>\n",
       "      <td>0</td>\n",
       "      <td>False</td>\n",
       "      <td>A</td>\n",
       "    </tr>\n",
       "    <tr>\n",
       "      <th>1</th>\n",
       "      <td>Value</td>\n",
       "      <td>False</td>\n",
       "      <td>False</td>\n",
       "      <td>False</td>\n",
       "      <td>12.31</td>\n",
       "      <td>False</td>\n",
       "      <td>False</td>\n",
       "      <td>False</td>\n",
       "      <td>False</td>\n",
       "      <td>False</td>\n",
       "      <td>...</td>\n",
       "      <td>False</td>\n",
       "      <td>False</td>\n",
       "      <td>False</td>\n",
       "      <td>58.47</td>\n",
       "      <td>Transportation</td>\n",
       "      <td>False</td>\n",
       "      <td>11.53</td>\n",
       "      <td>0</td>\n",
       "      <td>False</td>\n",
       "      <td>AAL</td>\n",
       "    </tr>\n",
       "    <tr>\n",
       "      <th>2</th>\n",
       "      <td>Value</td>\n",
       "      <td>False</td>\n",
       "      <td>False</td>\n",
       "      <td>False</td>\n",
       "      <td>9.17</td>\n",
       "      <td>False</td>\n",
       "      <td>False</td>\n",
       "      <td>False</td>\n",
       "      <td>False</td>\n",
       "      <td>False</td>\n",
       "      <td>...</td>\n",
       "      <td>False</td>\n",
       "      <td>False</td>\n",
       "      <td>False</td>\n",
       "      <td>5.74</td>\n",
       "      <td>Retailing</td>\n",
       "      <td>False</td>\n",
       "      <td>0.10</td>\n",
       "      <td>0</td>\n",
       "      <td>False</td>\n",
       "      <td>AAP</td>\n",
       "    </tr>\n",
       "    <tr>\n",
       "      <th>3</th>\n",
       "      <td>Value</td>\n",
       "      <td>False</td>\n",
       "      <td>False</td>\n",
       "      <td>False</td>\n",
       "      <td>6.86</td>\n",
       "      <td>False</td>\n",
       "      <td>False</td>\n",
       "      <td>False</td>\n",
       "      <td>False</td>\n",
       "      <td>False</td>\n",
       "      <td>...</td>\n",
       "      <td>False</td>\n",
       "      <td>False</td>\n",
       "      <td>False</td>\n",
       "      <td>12.87</td>\n",
       "      <td>Technology Hardware</td>\n",
       "      <td>False</td>\n",
       "      <td>0.65</td>\n",
       "      <td>0</td>\n",
       "      <td>False</td>\n",
       "      <td>AAPL</td>\n",
       "    </tr>\n",
       "    <tr>\n",
       "      <th>4</th>\n",
       "      <td>Value</td>\n",
       "      <td>False</td>\n",
       "      <td>False</td>\n",
       "      <td>False</td>\n",
       "      <td>16.92</td>\n",
       "      <td>False</td>\n",
       "      <td>False</td>\n",
       "      <td>False</td>\n",
       "      <td>False</td>\n",
       "      <td>True</td>\n",
       "      <td>...</td>\n",
       "      <td>False</td>\n",
       "      <td>False</td>\n",
       "      <td>False</td>\n",
       "      <td>53.78</td>\n",
       "      <td>Pharmaceuticals</td>\n",
       "      <td>False</td>\n",
       "      <td>1.12</td>\n",
       "      <td>0</td>\n",
       "      <td>False</td>\n",
       "      <td>ABBV</td>\n",
       "    </tr>\n",
       "  </tbody>\n",
       "</table>\n",
       "<p>5 rows × 29 columns</p>\n",
       "</div>"
      ],
      "text/plain": [
       "  Unnamed: 0  palmOil  controversialWeapons  gambling  socialScore  nuclear  \\\n",
       "0      Value    False                 False     False         8.65    False   \n",
       "1      Value    False                 False     False        12.31    False   \n",
       "2      Value    False                 False     False         9.17    False   \n",
       "3      Value    False                 False     False         6.86    False   \n",
       "4      Value    False                 False     False        16.92    False   \n",
       "\n",
       "   furLeather  alcoholic    gmo  catholic  ...   coal  pesticides  adult  \\\n",
       "0       False      False  False      True  ...  False       False  False   \n",
       "1       False      False  False     False  ...  False       False  False   \n",
       "2       False      False  False     False  ...  False       False  False   \n",
       "3       False      False  False     False  ...  False       False  False   \n",
       "4       False      False  False      True  ...  False       False  False   \n",
       "\n",
       "   percentile            peerGroup  smallArms  environmentScore  \\\n",
       "0       10.48      Pharmaceuticals      False              0.34   \n",
       "1       58.47       Transportation      False             11.53   \n",
       "2        5.74            Retailing      False              0.10   \n",
       "3       12.87  Technology Hardware      False              0.65   \n",
       "4       53.78      Pharmaceuticals      False              1.12   \n",
       "\n",
       "   governancePercentile militaryContract  company_ticker  \n",
       "0                     0            False               A  \n",
       "1                     0            False             AAL  \n",
       "2                     0            False             AAP  \n",
       "3                     0            False            AAPL  \n",
       "4                     0            False            ABBV  \n",
       "\n",
       "[5 rows x 29 columns]"
      ]
     },
     "execution_count": 2,
     "metadata": {},
     "output_type": "execute_result"
    }
   ],
   "source": [
    "# Using the Pandas read_csv funcion and the Path module, \n",
    "# read \"sp500_sustainability_scores.csv\" file into a Pandas DataFrame\n",
    "esg_df = pd.read_csv(\n",
    "    Path(\"sp500_sustainability_scores.csv\")\n",
    ")\n",
    "\n",
    "# Review the DataFrame\n",
    "esg_df.head()"
   ]
  },
  {
   "cell_type": "code",
   "execution_count": 3,
   "id": "c5375295-f467-49f5-a57a-6d204424d7bc",
   "metadata": {},
   "outputs": [
    {
     "data": {
      "text/plain": [
       "Engine(sqlite:///)"
      ]
     },
     "execution_count": 3,
     "metadata": {},
     "output_type": "execute_result"
    }
   ],
   "source": [
    "# Create the connection string for your SQLite database\n",
    "database_connection_string = 'sqlite:///'\n",
    "\n",
    "# Pass the connection string to the SQLAlchemy create_engine function\n",
    "engine = sqlalchemy.create_engine(database_connection_string)\n",
    "\n",
    "# Confirm that the database engine was created.\n",
    "engine"
   ]
  },
  {
   "cell_type": "code",
   "execution_count": 4,
   "id": "f84705fc-a03b-4566-8aab-b7b0a2149842",
   "metadata": {},
   "outputs": [
    {
     "name": "stderr",
     "output_type": "stream",
     "text": [
      "C:\\Projects\\Softwares\\anaconda3\\envs\\dev\\lib\\site-packages\\ipykernel_launcher.py:9: SADeprecationWarning: The Engine.table_names() method is deprecated and will be removed in a future release.  Please refer to Inspector.get_table_names(). (deprecated since: 1.4)\n",
      "  if __name__ == '__main__':\n"
     ]
    },
    {
     "data": {
      "text/plain": [
       "['esg_score_info']"
      ]
     },
     "execution_count": 4,
     "metadata": {},
     "output_type": "execute_result"
    }
   ],
   "source": [
    "esg_df.to_sql(\n",
    "    'esg_score_info', #New table name\n",
    "    engine, \n",
    "    index=False, \n",
    "    if_exists='replace'\n",
    ")\n",
    "\n",
    "# Confirm that the table was created by calling the table_names function\n",
    "engine.table_names()"
   ]
  },
  {
   "cell_type": "code",
   "execution_count": 5,
   "id": "927cdad9-5dbd-49e3-a994-ab5fd3527874",
   "metadata": {},
   "outputs": [],
   "source": [
    "# e_score = 10\n",
    "# s_score = 10\n",
    "# g_score = 8\n",
    "\n",
    "# Create and execute a query to return all columns for the 10 highest credit scores.\n",
    "# query1 = \"\"\"\n",
    "# SELECT company_ticker, environmentScore, socialScore, governanceScore\n",
    "# FROM esg_score_info\n",
    "# WHERE environmentScore >= \"\"\"+str(e_score)+\"\"\" AND socialScore >= \"\"\"+str(s_score)+\"\"\" AND governanceScore >= \"\"\"+str(g_score)+\"\"\";\n",
    "# \"\"\"\n",
    "\n",
    "## , environmentScore, socialScore, governanceScore\n",
    "\n",
    "# Call on the database engine to execute the query\n",
    "# results = engine.execute(query1)\n",
    "\n",
    "# List of the results of the database query\n",
    "# list(results)"
   ]
  },
  {
   "cell_type": "markdown",
   "id": "d3ee49df-0007-462a-8038-f03f5b4b9064",
   "metadata": {},
   "source": [
    "# Choose the filter for each category of ESG"
   ]
  },
  {
   "cell_type": "code",
   "execution_count": 6,
   "id": "c88f167f-deeb-4f7a-8386-be419b17da23",
   "metadata": {},
   "outputs": [
    {
     "data": {
      "application/javascript": "\n(function(root) {\n  function now() {\n    return new Date();\n  }\n\n  var force = true;\n\n  if (typeof root._bokeh_onload_callbacks === \"undefined\" || force === true) {\n    root._bokeh_onload_callbacks = [];\n    root._bokeh_is_loading = undefined;\n  }\n\n  if (typeof (root._bokeh_timeout) === \"undefined\" || force === true) {\n    root._bokeh_timeout = Date.now() + 5000;\n    root._bokeh_failed_load = false;\n  }\n\n  function run_callbacks() {\n    try {\n      root._bokeh_onload_callbacks.forEach(function(callback) {\n        if (callback != null)\n          callback();\n      });\n    } finally {\n      delete root._bokeh_onload_callbacks\n    }\n    console.debug(\"Bokeh: all callbacks have finished\");\n  }\n\n  function load_libs(css_urls, js_urls, js_modules, callback) {\n    if (css_urls == null) css_urls = [];\n    if (js_urls == null) js_urls = [];\n    if (js_modules == null) js_modules = [];\n\n    root._bokeh_onload_callbacks.push(callback);\n    if (root._bokeh_is_loading > 0) {\n      console.debug(\"Bokeh: BokehJS is being loaded, scheduling callback at\", now());\n      return null;\n    }\n    if (js_urls.length === 0 && js_modules.length === 0) {\n      run_callbacks();\n      return null;\n    }\n    console.debug(\"Bokeh: BokehJS not loaded, scheduling load and callback at\", now());\n\n    function on_load() {\n      root._bokeh_is_loading--;\n      if (root._bokeh_is_loading === 0) {\n        console.debug(\"Bokeh: all BokehJS libraries/stylesheets loaded\");\n        run_callbacks()\n      }\n    }\n\n    function on_error() {\n      console.error(\"failed to load \" + url);\n    }\n\n    for (var i = 0; i < css_urls.length; i++) {\n      var url = css_urls[i];\n      const element = document.createElement(\"link\");\n      element.onload = on_load;\n      element.onerror = on_error;\n      element.rel = \"stylesheet\";\n      element.type = \"text/css\";\n      element.href = url;\n      console.debug(\"Bokeh: injecting link tag for BokehJS stylesheet: \", url);\n      document.body.appendChild(element);\n    }\n\n    var skip = [];\n    if (window.requirejs) {\n      window.requirejs.config({'packages': {}, 'paths': {}, 'shim': {}});\n      \n      root._bokeh_is_loading = css_urls.length + 0;\n    } else {\n      root._bokeh_is_loading = css_urls.length + js_urls.length + js_modules.length;\n    }\n    for (var i = 0; i < js_urls.length; i++) {\n      var url = js_urls[i];\n      if (skip.indexOf(url) >= 0) {\n\tif (!window.requirejs) {\n\t  on_load();\n\t}\n\tcontinue;\n      }\n      var element = document.createElement('script');\n      element.onload = on_load;\n      element.onerror = on_error;\n      element.async = false;\n      element.src = url;\n      console.debug(\"Bokeh: injecting script tag for BokehJS library: \", url);\n      document.head.appendChild(element);\n    }\n    for (var i = 0; i < js_modules.length; i++) {\n      var url = js_modules[i];\n      if (skip.indexOf(url) >= 0) {\n\tif (!window.requirejs) {\n\t  on_load();\n\t}\n\tcontinue;\n      }\n      var element = document.createElement('script');\n      element.onload = on_load;\n      element.onerror = on_error;\n      element.async = false;\n      element.src = url;\n      element.type = \"module\";\n      console.debug(\"Bokeh: injecting script tag for BokehJS library: \", url);\n      document.head.appendChild(element);\n    }\n    if (!js_urls.length && !js_modules.length) {\n      on_load()\n    }\n  };\n\n  function inject_raw_css(css) {\n    const element = document.createElement(\"style\");\n    element.appendChild(document.createTextNode(css));\n    document.body.appendChild(element);\n  }\n\n  var js_urls = [\"https://cdn.bokeh.org/bokeh/release/bokeh-2.4.2.min.js\", \"https://cdn.bokeh.org/bokeh/release/bokeh-gl-2.4.2.min.js\", \"https://cdn.bokeh.org/bokeh/release/bokeh-widgets-2.4.2.min.js\", \"https://cdn.bokeh.org/bokeh/release/bokeh-tables-2.4.2.min.js\", \"https://cdn.bokeh.org/bokeh/release/bokeh-mathjax-2.4.2.min.js\", \"https://unpkg.com/@holoviz/panel@0.12.6/dist/panel.min.js\"];\n  var js_modules = [];\n  var css_urls = [\"https://unpkg.com/@holoviz/panel@0.12.6/dist/css/alerts.css\", \"https://unpkg.com/@holoviz/panel@0.12.6/dist/css/card.css\", \"https://unpkg.com/@holoviz/panel@0.12.6/dist/css/dataframe.css\", \"https://unpkg.com/@holoviz/panel@0.12.6/dist/css/json.css\", \"https://unpkg.com/@holoviz/panel@0.12.6/dist/css/loading.css\", \"https://unpkg.com/@holoviz/panel@0.12.6/dist/css/markdown.css\", \"https://unpkg.com/@holoviz/panel@0.12.6/dist/css/widgets.css\"];\n  var inline_js = [\n    function(Bokeh) {\n      inject_raw_css(\"\\n    .bk.pn-loading.arcs:before {\\n      background-image: url(\\\"data:image/svg+xml;base64,PHN2ZyB4bWxucz0iaHR0cDovL3d3dy53My5vcmcvMjAwMC9zdmciIHhtbG5zOnhsaW5rPSJodHRwOi8vd3d3LnczLm9yZy8xOTk5L3hsaW5rIiBzdHlsZT0ibWFyZ2luOiBhdXRvOyBiYWNrZ3JvdW5kOiBub25lOyBkaXNwbGF5OiBibG9jazsgc2hhcGUtcmVuZGVyaW5nOiBhdXRvOyIgdmlld0JveD0iMCAwIDEwMCAxMDAiIHByZXNlcnZlQXNwZWN0UmF0aW89InhNaWRZTWlkIj4gIDxjaXJjbGUgY3g9IjUwIiBjeT0iNTAiIHI9IjMyIiBzdHJva2Utd2lkdGg9IjgiIHN0cm9rZT0iI2MzYzNjMyIgc3Ryb2tlLWRhc2hhcnJheT0iNTAuMjY1NDgyNDU3NDM2NjkgNTAuMjY1NDgyNDU3NDM2NjkiIGZpbGw9Im5vbmUiIHN0cm9rZS1saW5lY2FwPSJyb3VuZCI+ICAgIDxhbmltYXRlVHJhbnNmb3JtIGF0dHJpYnV0ZU5hbWU9InRyYW5zZm9ybSIgdHlwZT0icm90YXRlIiByZXBlYXRDb3VudD0iaW5kZWZpbml0ZSIgZHVyPSIxcyIga2V5VGltZXM9IjA7MSIgdmFsdWVzPSIwIDUwIDUwOzM2MCA1MCA1MCI+PC9hbmltYXRlVHJhbnNmb3JtPiAgPC9jaXJjbGU+PC9zdmc+\\\");\\n      max-height: 400px;\\n    }\\n    \");\n    },\n    function(Bokeh) {\n      Bokeh.set_log_level(\"info\");\n    },\n    function(Bokeh) {} // ensure no trailing comma for IE\n  ];\n\n  function run_inline_js() {\n    if ((root.Bokeh !== undefined) || (force === true)) {\n      for (var i = 0; i < inline_js.length; i++) {\n        inline_js[i].call(root, root.Bokeh);\n      }} else if (Date.now() < root._bokeh_timeout) {\n      setTimeout(run_inline_js, 100);\n    } else if (!root._bokeh_failed_load) {\n      console.log(\"Bokeh: BokehJS failed to load within specified timeout.\");\n      root._bokeh_failed_load = true;\n    }\n  }\n\n  if (root._bokeh_is_loading === 0) {\n    console.debug(\"Bokeh: BokehJS loaded, going straight to plotting\");\n    run_inline_js();\n  } else {\n    load_libs(css_urls, js_urls, js_modules, function() {\n      console.debug(\"Bokeh: BokehJS plotting callback run at\", now());\n      run_inline_js();\n    });\n  }\n}(window));",
      "application/vnd.holoviews_load.v0+json": ""
     },
     "metadata": {},
     "output_type": "display_data"
    },
    {
     "data": {
      "application/javascript": "\nif ((window.PyViz === undefined) || (window.PyViz instanceof HTMLElement)) {\n  window.PyViz = {comms: {}, comm_status:{}, kernels:{}, receivers: {}, plot_index: []}\n}\n\n\n    function JupyterCommManager() {\n    }\n\n    JupyterCommManager.prototype.register_target = function(plot_id, comm_id, msg_handler) {\n      if (window.comm_manager || ((window.Jupyter !== undefined) && (Jupyter.notebook.kernel != null))) {\n        var comm_manager = window.comm_manager || Jupyter.notebook.kernel.comm_manager;\n        comm_manager.register_target(comm_id, function(comm) {\n          comm.on_msg(msg_handler);\n        });\n      } else if ((plot_id in window.PyViz.kernels) && (window.PyViz.kernels[plot_id])) {\n        window.PyViz.kernels[plot_id].registerCommTarget(comm_id, function(comm) {\n          comm.onMsg = msg_handler;\n        });\n      } else if (typeof google != 'undefined' && google.colab.kernel != null) {\n        google.colab.kernel.comms.registerTarget(comm_id, (comm) => {\n          var messages = comm.messages[Symbol.asyncIterator]();\n          function processIteratorResult(result) {\n            var message = result.value;\n            console.log(message)\n            var content = {data: message.data, comm_id};\n            var buffers = []\n            for (var buffer of message.buffers || []) {\n              buffers.push(new DataView(buffer))\n            }\n            var metadata = message.metadata || {};\n            var msg = {content, buffers, metadata}\n            msg_handler(msg);\n            return messages.next().then(processIteratorResult);\n          }\n          return messages.next().then(processIteratorResult);\n        })\n      }\n    }\n\n    JupyterCommManager.prototype.get_client_comm = function(plot_id, comm_id, msg_handler) {\n      if (comm_id in window.PyViz.comms) {\n        return window.PyViz.comms[comm_id];\n      } else if (window.comm_manager || ((window.Jupyter !== undefined) && (Jupyter.notebook.kernel != null))) {\n        var comm_manager = window.comm_manager || Jupyter.notebook.kernel.comm_manager;\n        var comm = comm_manager.new_comm(comm_id, {}, {}, {}, comm_id);\n        if (msg_handler) {\n          comm.on_msg(msg_handler);\n        }\n      } else if ((plot_id in window.PyViz.kernels) && (window.PyViz.kernels[plot_id])) {\n        var comm = window.PyViz.kernels[plot_id].connectToComm(comm_id);\n        comm.open();\n        if (msg_handler) {\n          comm.onMsg = msg_handler;\n        }\n      } else if (typeof google != 'undefined' && google.colab.kernel != null) {\n        var comm_promise = google.colab.kernel.comms.open(comm_id)\n        comm_promise.then((comm) => {\n          window.PyViz.comms[comm_id] = comm;\n          if (msg_handler) {\n            var messages = comm.messages[Symbol.asyncIterator]();\n            function processIteratorResult(result) {\n              var message = result.value;\n              var content = {data: message.data};\n              var metadata = message.metadata || {comm_id};\n              var msg = {content, metadata}\n              msg_handler(msg);\n              return messages.next().then(processIteratorResult);\n            }\n            return messages.next().then(processIteratorResult);\n          }\n        }) \n        var sendClosure = (data, metadata, buffers, disposeOnDone) => {\n          return comm_promise.then((comm) => {\n            comm.send(data, metadata, buffers, disposeOnDone);\n          });\n        };\n        var comm = {\n          send: sendClosure\n        };\n      }\n      window.PyViz.comms[comm_id] = comm;\n      return comm;\n    }\n    window.PyViz.comm_manager = new JupyterCommManager();\n    \n\n\nvar JS_MIME_TYPE = 'application/javascript';\nvar HTML_MIME_TYPE = 'text/html';\nvar EXEC_MIME_TYPE = 'application/vnd.holoviews_exec.v0+json';\nvar CLASS_NAME = 'output';\n\n/**\n * Render data to the DOM node\n */\nfunction render(props, node) {\n  var div = document.createElement(\"div\");\n  var script = document.createElement(\"script\");\n  node.appendChild(div);\n  node.appendChild(script);\n}\n\n/**\n * Handle when a new output is added\n */\nfunction handle_add_output(event, handle) {\n  var output_area = handle.output_area;\n  var output = handle.output;\n  if ((output.data == undefined) || (!output.data.hasOwnProperty(EXEC_MIME_TYPE))) {\n    return\n  }\n  var id = output.metadata[EXEC_MIME_TYPE][\"id\"];\n  var toinsert = output_area.element.find(\".\" + CLASS_NAME.split(' ')[0]);\n  if (id !== undefined) {\n    var nchildren = toinsert.length;\n    var html_node = toinsert[nchildren-1].children[0];\n    html_node.innerHTML = output.data[HTML_MIME_TYPE];\n    var scripts = [];\n    var nodelist = html_node.querySelectorAll(\"script\");\n    for (var i in nodelist) {\n      if (nodelist.hasOwnProperty(i)) {\n        scripts.push(nodelist[i])\n      }\n    }\n\n    scripts.forEach( function (oldScript) {\n      var newScript = document.createElement(\"script\");\n      var attrs = [];\n      var nodemap = oldScript.attributes;\n      for (var j in nodemap) {\n        if (nodemap.hasOwnProperty(j)) {\n          attrs.push(nodemap[j])\n        }\n      }\n      attrs.forEach(function(attr) { newScript.setAttribute(attr.name, attr.value) });\n      newScript.appendChild(document.createTextNode(oldScript.innerHTML));\n      oldScript.parentNode.replaceChild(newScript, oldScript);\n    });\n    if (JS_MIME_TYPE in output.data) {\n      toinsert[nchildren-1].children[1].textContent = output.data[JS_MIME_TYPE];\n    }\n    output_area._hv_plot_id = id;\n    if ((window.Bokeh !== undefined) && (id in Bokeh.index)) {\n      window.PyViz.plot_index[id] = Bokeh.index[id];\n    } else {\n      window.PyViz.plot_index[id] = null;\n    }\n  } else if (output.metadata[EXEC_MIME_TYPE][\"server_id\"] !== undefined) {\n    var bk_div = document.createElement(\"div\");\n    bk_div.innerHTML = output.data[HTML_MIME_TYPE];\n    var script_attrs = bk_div.children[0].attributes;\n    for (var i = 0; i < script_attrs.length; i++) {\n      toinsert[toinsert.length - 1].childNodes[1].setAttribute(script_attrs[i].name, script_attrs[i].value);\n    }\n    // store reference to server id on output_area\n    output_area._bokeh_server_id = output.metadata[EXEC_MIME_TYPE][\"server_id\"];\n  }\n}\n\n/**\n * Handle when an output is cleared or removed\n */\nfunction handle_clear_output(event, handle) {\n  var id = handle.cell.output_area._hv_plot_id;\n  var server_id = handle.cell.output_area._bokeh_server_id;\n  if (((id === undefined) || !(id in PyViz.plot_index)) && (server_id !== undefined)) { return; }\n  var comm = window.PyViz.comm_manager.get_client_comm(\"hv-extension-comm\", \"hv-extension-comm\", function () {});\n  if (server_id !== null) {\n    comm.send({event_type: 'server_delete', 'id': server_id});\n    return;\n  } else if (comm !== null) {\n    comm.send({event_type: 'delete', 'id': id});\n  }\n  delete PyViz.plot_index[id];\n  if ((window.Bokeh !== undefined) & (id in window.Bokeh.index)) {\n    var doc = window.Bokeh.index[id].model.document\n    doc.clear();\n    const i = window.Bokeh.documents.indexOf(doc);\n    if (i > -1) {\n      window.Bokeh.documents.splice(i, 1);\n    }\n  }\n}\n\n/**\n * Handle kernel restart event\n */\nfunction handle_kernel_cleanup(event, handle) {\n  delete PyViz.comms[\"hv-extension-comm\"];\n  window.PyViz.plot_index = {}\n}\n\n/**\n * Handle update_display_data messages\n */\nfunction handle_update_output(event, handle) {\n  handle_clear_output(event, {cell: {output_area: handle.output_area}})\n  handle_add_output(event, handle)\n}\n\nfunction register_renderer(events, OutputArea) {\n  function append_mime(data, metadata, element) {\n    // create a DOM node to render to\n    var toinsert = this.create_output_subarea(\n    metadata,\n    CLASS_NAME,\n    EXEC_MIME_TYPE\n    );\n    this.keyboard_manager.register_events(toinsert);\n    // Render to node\n    var props = {data: data, metadata: metadata[EXEC_MIME_TYPE]};\n    render(props, toinsert[0]);\n    element.append(toinsert);\n    return toinsert\n  }\n\n  events.on('output_added.OutputArea', handle_add_output);\n  events.on('output_updated.OutputArea', handle_update_output);\n  events.on('clear_output.CodeCell', handle_clear_output);\n  events.on('delete.Cell', handle_clear_output);\n  events.on('kernel_ready.Kernel', handle_kernel_cleanup);\n\n  OutputArea.prototype.register_mime_type(EXEC_MIME_TYPE, append_mime, {\n    safe: true,\n    index: 0\n  });\n}\n\nif (window.Jupyter !== undefined) {\n  try {\n    var events = require('base/js/events');\n    var OutputArea = require('notebook/js/outputarea').OutputArea;\n    if (OutputArea.prototype.mime_types().indexOf(EXEC_MIME_TYPE) == -1) {\n      register_renderer(events, OutputArea);\n    }\n  } catch(err) {\n  }\n}\n",
      "application/vnd.holoviews_load.v0+json": ""
     },
     "metadata": {},
     "output_type": "display_data"
    }
   ],
   "source": [
    "pn.extension()"
   ]
  },
  {
   "cell_type": "code",
   "execution_count": 7,
   "id": "0de32b5a-bc58-4127-a078-69f156f862dd",
   "metadata": {},
   "outputs": [],
   "source": [
    "# Create sliders for each category of ESG\n",
    "e_score_slider = pn.widgets.IntSlider(name='Environmental Score Slider', start=0, end=20, step=1, value=10)\n",
    "s_score_slider = pn.widgets.IntSlider(name='Social Score Slider', start=0, end=20, step=1, value=10)\n",
    "g_score_slider = pn.widgets.IntSlider(name='Governance Score Slider', start=0, end=20, step=1, value=10)"
   ]
  },
  {
   "cell_type": "markdown",
   "id": "df742df5-550d-467d-bc00-f60215e9792c",
   "metadata": {},
   "source": [
    "**Please adjust the slider for** *environmental* **score**"
   ]
  },
  {
   "cell_type": "code",
   "execution_count": 8,
   "id": "5c7f0048-32c9-4d58-b0fc-fdbbc02d84b2",
   "metadata": {},
   "outputs": [
    {
     "data": {},
     "metadata": {},
     "output_type": "display_data"
    },
    {
     "data": {
      "application/vnd.holoviews_exec.v0+json": "",
      "text/html": [
       "<div id='1002'>\n",
       "\n",
       "\n",
       "\n",
       "\n",
       "\n",
       "  <div class=\"bk-root\" id=\"917f311a-8db2-4479-bc1d-a4eabb3e2549\" data-root-id=\"1002\"></div>\n",
       "</div>\n",
       "<script type=\"application/javascript\">(function(root) {\n",
       "  function embed_document(root) {\n",
       "    var docs_json = {\"61d55b8f-7011-4c2f-a7ae-2f66a70c32da\":{\"defs\":[{\"extends\":null,\"module\":null,\"name\":\"ReactiveHTML1\",\"overrides\":[],\"properties\":[]},{\"extends\":null,\"module\":null,\"name\":\"FlexBox1\",\"overrides\":[],\"properties\":[{\"default\":\"flex-start\",\"kind\":null,\"name\":\"align_content\"},{\"default\":\"flex-start\",\"kind\":null,\"name\":\"align_items\"},{\"default\":\"row\",\"kind\":null,\"name\":\"flex_direction\"},{\"default\":\"wrap\",\"kind\":null,\"name\":\"flex_wrap\"},{\"default\":\"flex-start\",\"kind\":null,\"name\":\"justify_content\"}]},{\"extends\":null,\"module\":null,\"name\":\"TemplateActions1\",\"overrides\":[],\"properties\":[{\"default\":0,\"kind\":null,\"name\":\"open_modal\"},{\"default\":0,\"kind\":null,\"name\":\"close_modal\"}]},{\"extends\":null,\"module\":null,\"name\":\"MaterialTemplateActions1\",\"overrides\":[],\"properties\":[{\"default\":0,\"kind\":null,\"name\":\"open_modal\"},{\"default\":0,\"kind\":null,\"name\":\"close_modal\"}]}],\"roots\":{\"references\":[{\"attributes\":{\"client_comm_id\":\"095e714a403a4484816fc0c1d74d1543\",\"comm_id\":\"01a00c9575ef48929040dc4e33562d57\",\"plot_id\":\"1002\"},\"id\":\"1003\",\"type\":\"panel.models.comm_manager.CommManager\"},{\"attributes\":{\"end\":20,\"margin\":[5,10,5,10],\"start\":0,\"title\":\"Environmental Score Slider\",\"value\":10},\"id\":\"1002\",\"type\":\"Slider\"},{\"attributes\":{\"reload\":false},\"id\":\"1004\",\"type\":\"panel.models.location.Location\"}],\"root_ids\":[\"1002\",\"1003\",\"1004\"]},\"title\":\"Bokeh Application\",\"version\":\"2.4.2\"}};\n",
       "    var render_items = [{\"docid\":\"61d55b8f-7011-4c2f-a7ae-2f66a70c32da\",\"root_ids\":[\"1002\"],\"roots\":{\"1002\":\"917f311a-8db2-4479-bc1d-a4eabb3e2549\"}}];\n",
       "    root.Bokeh.embed.embed_items_notebook(docs_json, render_items);\n",
       "  }\n",
       "  if (root.Bokeh !== undefined && root.Bokeh.Panel !== undefined) {\n",
       "    embed_document(root);\n",
       "  } else {\n",
       "    var attempts = 0;\n",
       "    var timer = setInterval(function(root) {\n",
       "      if (root.Bokeh !== undefined && root.Bokeh.Panel !== undefined) {\n",
       "        clearInterval(timer);\n",
       "        embed_document(root);\n",
       "      } else if (document.readyState == \"complete\") {\n",
       "        attempts++;\n",
       "        if (attempts > 200) {\n",
       "          clearInterval(timer);\n",
       "          console.log(\"Bokeh: ERROR: Unable to run BokehJS code because BokehJS library is missing\");\n",
       "        }\n",
       "      }\n",
       "    }, 25, root)\n",
       "  }\n",
       "})(window);</script>"
      ],
      "text/plain": [
       "IntSlider(end=20, name='Environmental S..., value=10)"
      ]
     },
     "execution_count": 8,
     "metadata": {
      "application/vnd.holoviews_exec.v0+json": {
       "id": "1002"
      }
     },
     "output_type": "execute_result"
    }
   ],
   "source": [
    "e_score_slider"
   ]
  },
  {
   "cell_type": "markdown",
   "id": "cc554c06-f4ae-465f-97ab-107db6944f09",
   "metadata": {},
   "source": [
    "**Please adjust the slider for** *social* **score**"
   ]
  },
  {
   "cell_type": "code",
   "execution_count": 9,
   "id": "6c1201ca-4626-4394-9303-118cff459c4d",
   "metadata": {},
   "outputs": [
    {
     "data": {},
     "metadata": {},
     "output_type": "display_data"
    },
    {
     "data": {
      "application/vnd.holoviews_exec.v0+json": "",
      "text/html": [
       "<div id='1005'>\n",
       "\n",
       "\n",
       "\n",
       "\n",
       "\n",
       "  <div class=\"bk-root\" id=\"bc5e0819-4258-4c1c-bb42-728e77039392\" data-root-id=\"1005\"></div>\n",
       "</div>\n",
       "<script type=\"application/javascript\">(function(root) {\n",
       "  function embed_document(root) {\n",
       "    var docs_json = {\"e0894387-809d-4ef1-94f5-ae040434b68d\":{\"defs\":[{\"extends\":null,\"module\":null,\"name\":\"ReactiveHTML1\",\"overrides\":[],\"properties\":[]},{\"extends\":null,\"module\":null,\"name\":\"FlexBox1\",\"overrides\":[],\"properties\":[{\"default\":\"flex-start\",\"kind\":null,\"name\":\"align_content\"},{\"default\":\"flex-start\",\"kind\":null,\"name\":\"align_items\"},{\"default\":\"row\",\"kind\":null,\"name\":\"flex_direction\"},{\"default\":\"wrap\",\"kind\":null,\"name\":\"flex_wrap\"},{\"default\":\"flex-start\",\"kind\":null,\"name\":\"justify_content\"}]},{\"extends\":null,\"module\":null,\"name\":\"TemplateActions1\",\"overrides\":[],\"properties\":[{\"default\":0,\"kind\":null,\"name\":\"open_modal\"},{\"default\":0,\"kind\":null,\"name\":\"close_modal\"}]},{\"extends\":null,\"module\":null,\"name\":\"MaterialTemplateActions1\",\"overrides\":[],\"properties\":[{\"default\":0,\"kind\":null,\"name\":\"open_modal\"},{\"default\":0,\"kind\":null,\"name\":\"close_modal\"}]}],\"roots\":{\"references\":[{\"attributes\":{\"end\":20,\"margin\":[5,10,5,10],\"start\":0,\"title\":\"Social Score Slider\",\"value\":10},\"id\":\"1005\",\"type\":\"Slider\"},{\"attributes\":{\"client_comm_id\":\"cfc568d620654f11951444d184cb931f\",\"comm_id\":\"95af6fec4c9640868edd3030993e49ec\",\"plot_id\":\"1005\"},\"id\":\"1006\",\"type\":\"panel.models.comm_manager.CommManager\"}],\"root_ids\":[\"1005\",\"1006\"]},\"title\":\"Bokeh Application\",\"version\":\"2.4.2\"}};\n",
       "    var render_items = [{\"docid\":\"e0894387-809d-4ef1-94f5-ae040434b68d\",\"root_ids\":[\"1005\"],\"roots\":{\"1005\":\"bc5e0819-4258-4c1c-bb42-728e77039392\"}}];\n",
       "    root.Bokeh.embed.embed_items_notebook(docs_json, render_items);\n",
       "  }\n",
       "  if (root.Bokeh !== undefined && root.Bokeh.Panel !== undefined) {\n",
       "    embed_document(root);\n",
       "  } else {\n",
       "    var attempts = 0;\n",
       "    var timer = setInterval(function(root) {\n",
       "      if (root.Bokeh !== undefined && root.Bokeh.Panel !== undefined) {\n",
       "        clearInterval(timer);\n",
       "        embed_document(root);\n",
       "      } else if (document.readyState == \"complete\") {\n",
       "        attempts++;\n",
       "        if (attempts > 200) {\n",
       "          clearInterval(timer);\n",
       "          console.log(\"Bokeh: ERROR: Unable to run BokehJS code because BokehJS library is missing\");\n",
       "        }\n",
       "      }\n",
       "    }, 25, root)\n",
       "  }\n",
       "})(window);</script>"
      ],
      "text/plain": [
       "IntSlider(end=20, name='Social Score Slider', value=10)"
      ]
     },
     "execution_count": 9,
     "metadata": {
      "application/vnd.holoviews_exec.v0+json": {
       "id": "1005"
      }
     },
     "output_type": "execute_result"
    }
   ],
   "source": [
    "s_score_slider"
   ]
  },
  {
   "cell_type": "markdown",
   "id": "584daeb6-546b-43df-9882-addec9c014bf",
   "metadata": {},
   "source": [
    "**Please adjust the slider for** *governance* **score**"
   ]
  },
  {
   "cell_type": "code",
   "execution_count": 10,
   "id": "fdb4a333-d232-41a6-8ddb-b92d33dce9f7",
   "metadata": {},
   "outputs": [
    {
     "data": {},
     "metadata": {},
     "output_type": "display_data"
    },
    {
     "data": {
      "application/vnd.holoviews_exec.v0+json": "",
      "text/html": [
       "<div id='1007'>\n",
       "\n",
       "\n",
       "\n",
       "\n",
       "\n",
       "  <div class=\"bk-root\" id=\"15529a50-2c7a-4cc1-8003-10190be3219e\" data-root-id=\"1007\"></div>\n",
       "</div>\n",
       "<script type=\"application/javascript\">(function(root) {\n",
       "  function embed_document(root) {\n",
       "    var docs_json = {\"128bd03e-3e87-4b0f-970a-d1a627811815\":{\"defs\":[{\"extends\":null,\"module\":null,\"name\":\"ReactiveHTML1\",\"overrides\":[],\"properties\":[]},{\"extends\":null,\"module\":null,\"name\":\"FlexBox1\",\"overrides\":[],\"properties\":[{\"default\":\"flex-start\",\"kind\":null,\"name\":\"align_content\"},{\"default\":\"flex-start\",\"kind\":null,\"name\":\"align_items\"},{\"default\":\"row\",\"kind\":null,\"name\":\"flex_direction\"},{\"default\":\"wrap\",\"kind\":null,\"name\":\"flex_wrap\"},{\"default\":\"flex-start\",\"kind\":null,\"name\":\"justify_content\"}]},{\"extends\":null,\"module\":null,\"name\":\"TemplateActions1\",\"overrides\":[],\"properties\":[{\"default\":0,\"kind\":null,\"name\":\"open_modal\"},{\"default\":0,\"kind\":null,\"name\":\"close_modal\"}]},{\"extends\":null,\"module\":null,\"name\":\"MaterialTemplateActions1\",\"overrides\":[],\"properties\":[{\"default\":0,\"kind\":null,\"name\":\"open_modal\"},{\"default\":0,\"kind\":null,\"name\":\"close_modal\"}]}],\"roots\":{\"references\":[{\"attributes\":{\"end\":20,\"margin\":[5,10,5,10],\"start\":0,\"title\":\"Governance Score Slider\",\"value\":10},\"id\":\"1007\",\"type\":\"Slider\"},{\"attributes\":{\"client_comm_id\":\"2a571c1c3d024341a2e01b876fc2556e\",\"comm_id\":\"87366d5b7e094345bd1b280a22a3e928\",\"plot_id\":\"1007\"},\"id\":\"1008\",\"type\":\"panel.models.comm_manager.CommManager\"}],\"root_ids\":[\"1007\",\"1008\"]},\"title\":\"Bokeh Application\",\"version\":\"2.4.2\"}};\n",
       "    var render_items = [{\"docid\":\"128bd03e-3e87-4b0f-970a-d1a627811815\",\"root_ids\":[\"1007\"],\"roots\":{\"1007\":\"15529a50-2c7a-4cc1-8003-10190be3219e\"}}];\n",
       "    root.Bokeh.embed.embed_items_notebook(docs_json, render_items);\n",
       "  }\n",
       "  if (root.Bokeh !== undefined && root.Bokeh.Panel !== undefined) {\n",
       "    embed_document(root);\n",
       "  } else {\n",
       "    var attempts = 0;\n",
       "    var timer = setInterval(function(root) {\n",
       "      if (root.Bokeh !== undefined && root.Bokeh.Panel !== undefined) {\n",
       "        clearInterval(timer);\n",
       "        embed_document(root);\n",
       "      } else if (document.readyState == \"complete\") {\n",
       "        attempts++;\n",
       "        if (attempts > 200) {\n",
       "          clearInterval(timer);\n",
       "          console.log(\"Bokeh: ERROR: Unable to run BokehJS code because BokehJS library is missing\");\n",
       "        }\n",
       "      }\n",
       "    }, 25, root)\n",
       "  }\n",
       "})(window);</script>"
      ],
      "text/plain": [
       "IntSlider(end=20, name='Governance Score Slider', value=10)"
      ]
     },
     "execution_count": 10,
     "metadata": {
      "application/vnd.holoviews_exec.v0+json": {
       "id": "1007"
      }
     },
     "output_type": "execute_result"
    }
   ],
   "source": [
    "g_score_slider"
   ]
  },
  {
   "cell_type": "markdown",
   "id": "90b5b297-f5c9-4157-8e74-fad83b8067a4",
   "metadata": {},
   "source": [
    "# Create a custom index for FILTERED stock in the S&P500"
   ]
  },
  {
   "cell_type": "code",
   "execution_count": 11,
   "id": "ce845237-c001-4d62-9570-30f5a251ad3d",
   "metadata": {},
   "outputs": [
    {
     "data": {
      "text/html": [
       "<div>\n",
       "<style scoped>\n",
       "    .dataframe tbody tr th:only-of-type {\n",
       "        vertical-align: middle;\n",
       "    }\n",
       "\n",
       "    .dataframe tbody tr th {\n",
       "        vertical-align: top;\n",
       "    }\n",
       "\n",
       "    .dataframe thead th {\n",
       "        text-align: right;\n",
       "    }\n",
       "</style>\n",
       "<table border=\"1\" class=\"dataframe\">\n",
       "  <thead>\n",
       "    <tr style=\"text-align: right;\">\n",
       "      <th></th>\n",
       "      <th>company_ticker</th>\n",
       "      <th>environmentScore</th>\n",
       "      <th>socialScore</th>\n",
       "      <th>governanceScore</th>\n",
       "    </tr>\n",
       "  </thead>\n",
       "  <tbody>\n",
       "    <tr>\n",
       "      <th>0</th>\n",
       "      <td>GE</td>\n",
       "      <td>14.09</td>\n",
       "      <td>15.04</td>\n",
       "      <td>11.58</td>\n",
       "    </tr>\n",
       "    <tr>\n",
       "      <th>1</th>\n",
       "      <td>TSN</td>\n",
       "      <td>14.31</td>\n",
       "      <td>12.39</td>\n",
       "      <td>10.53</td>\n",
       "    </tr>\n",
       "  </tbody>\n",
       "</table>\n",
       "</div>"
      ],
      "text/plain": [
       "  company_ticker  environmentScore  socialScore  governanceScore\n",
       "0             GE             14.09        15.04            11.58\n",
       "1            TSN             14.31        12.39            10.53"
      ]
     },
     "execution_count": 11,
     "metadata": {},
     "output_type": "execute_result"
    }
   ],
   "source": [
    "e_score = e_score_slider.value\n",
    "s_score = s_score_slider.value\n",
    "g_score = g_score_slider.value\n",
    "\n",
    "# Create and execute a query to return esg data for tickers that match the chosen criteria.\n",
    "query1 = \"\"\"\n",
    "SELECT company_ticker, environmentScore, socialScore, governanceScore\n",
    "FROM esg_score_info\n",
    "WHERE environmentScore >= \"\"\"+str(e_score)+\"\"\" AND socialScore >= \"\"\"+str(s_score)+\"\"\" AND governanceScore >= \"\"\"+str(g_score)+\"\"\";\n",
    "\"\"\"\n",
    "\n",
    "# read in your SQL query results using pandas\n",
    "esg_df = pd.read_sql(query1, con=engine)\n",
    "\n",
    "# return your first five rows\n",
    "esg_df.head()"
   ]
  },
  {
   "cell_type": "code",
   "execution_count": 12,
   "id": "5b2a067d-d44a-46a7-a72e-328f2ef50fc5",
   "metadata": {},
   "outputs": [
    {
     "name": "stdout",
     "output_type": "stream",
     "text": [
      "[*********************100%***********************]  2 of 2 completed\n"
     ]
    },
    {
     "data": {
      "text/html": [
       "<div>\n",
       "<style scoped>\n",
       "    .dataframe tbody tr th:only-of-type {\n",
       "        vertical-align: middle;\n",
       "    }\n",
       "\n",
       "    .dataframe tbody tr th {\n",
       "        vertical-align: top;\n",
       "    }\n",
       "\n",
       "    .dataframe thead tr th {\n",
       "        text-align: left;\n",
       "    }\n",
       "\n",
       "    .dataframe thead tr:last-of-type th {\n",
       "        text-align: right;\n",
       "    }\n",
       "</style>\n",
       "<table border=\"1\" class=\"dataframe\">\n",
       "  <thead>\n",
       "    <tr>\n",
       "      <th></th>\n",
       "      <th colspan=\"2\" halign=\"left\">Adj Close</th>\n",
       "    </tr>\n",
       "    <tr>\n",
       "      <th></th>\n",
       "      <th>GE</th>\n",
       "      <th>TSN</th>\n",
       "    </tr>\n",
       "    <tr>\n",
       "      <th>Date</th>\n",
       "      <th></th>\n",
       "      <th></th>\n",
       "    </tr>\n",
       "  </thead>\n",
       "  <tbody>\n",
       "    <tr>\n",
       "      <th>2020-01-02</th>\n",
       "      <td>95.204353</td>\n",
       "      <td>85.615974</td>\n",
       "    </tr>\n",
       "    <tr>\n",
       "      <th>2020-01-03</th>\n",
       "      <td>95.523560</td>\n",
       "      <td>86.196457</td>\n",
       "    </tr>\n",
       "    <tr>\n",
       "      <th>2020-01-06</th>\n",
       "      <td>96.880219</td>\n",
       "      <td>85.787270</td>\n",
       "    </tr>\n",
       "    <tr>\n",
       "      <th>2020-01-07</th>\n",
       "      <td>96.161980</td>\n",
       "      <td>84.540665</td>\n",
       "    </tr>\n",
       "    <tr>\n",
       "      <th>2020-01-08</th>\n",
       "      <td>95.284157</td>\n",
       "      <td>85.064041</td>\n",
       "    </tr>\n",
       "    <tr>\n",
       "      <th>...</th>\n",
       "      <td>...</td>\n",
       "      <td>...</td>\n",
       "    </tr>\n",
       "    <tr>\n",
       "      <th>2020-04-23</th>\n",
       "      <td>52.037674</td>\n",
       "      <td>58.297218</td>\n",
       "    </tr>\n",
       "    <tr>\n",
       "      <th>2020-04-24</th>\n",
       "      <td>49.962547</td>\n",
       "      <td>56.459270</td>\n",
       "    </tr>\n",
       "    <tr>\n",
       "      <th>2020-04-27</th>\n",
       "      <td>51.319355</td>\n",
       "      <td>57.129360</td>\n",
       "    </tr>\n",
       "    <tr>\n",
       "      <th>2020-04-28</th>\n",
       "      <td>54.272415</td>\n",
       "      <td>60.116013</td>\n",
       "    </tr>\n",
       "    <tr>\n",
       "      <th>2020-04-29</th>\n",
       "      <td>52.516544</td>\n",
       "      <td>60.594643</td>\n",
       "    </tr>\n",
       "  </tbody>\n",
       "</table>\n",
       "<p>82 rows × 2 columns</p>\n",
       "</div>"
      ],
      "text/plain": [
       "            Adj Close           \n",
       "                   GE        TSN\n",
       "Date                            \n",
       "2020-01-02  95.204353  85.615974\n",
       "2020-01-03  95.523560  86.196457\n",
       "2020-01-06  96.880219  85.787270\n",
       "2020-01-07  96.161980  84.540665\n",
       "2020-01-08  95.284157  85.064041\n",
       "...               ...        ...\n",
       "2020-04-23  52.037674  58.297218\n",
       "2020-04-24  49.962547  56.459270\n",
       "2020-04-27  51.319355  57.129360\n",
       "2020-04-28  54.272415  60.116013\n",
       "2020-04-29  52.516544  60.594643\n",
       "\n",
       "[82 rows x 2 columns]"
      ]
     },
     "execution_count": 12,
     "metadata": {},
     "output_type": "execute_result"
    }
   ],
   "source": [
    "esg_ticker = esg_df['company_ticker']\n",
    "\n",
    "#Download historical data for S&P 500\n",
    "sp500_hist_data = yf.download(list(esg_ticker), start=\"2020-01-01\", end=\"2020-04-30\")\n",
    "\n",
    "#Count the number of column fetched\n",
    "column_count = (len(sp500_hist_data.columns))/6\n",
    "\n",
    "#Fetch only the \"Adjusted Closing Price\" from the data frame\n",
    "sp500_hist_data_closing = sp500_hist_data.iloc[:,0:int(column_count)]\n",
    "\n",
    "#Print the data frame to make sure the data is fetched correctly\n",
    "sp500_hist_data_closing"
   ]
  },
  {
   "cell_type": "code",
   "execution_count": 13,
   "id": "513409f9-93b5-40ff-b942-49a0fe8e7b90",
   "metadata": {},
   "outputs": [
    {
     "data": {
      "text/plain": [
       "Date\n",
       "2020-01-02    100.000000\n",
       "2020-01-03    100.497560\n",
       "2020-01-06    101.021545\n",
       "2020-01-07     99.934917\n",
       "2020-01-08     99.738896\n",
       "Name: (custom_index, ), dtype: float64"
      ]
     },
     "execution_count": 13,
     "metadata": {},
     "output_type": "execute_result"
    }
   ],
   "source": [
    "#Create the \"Custom_Index\" column to calculate the average price of all the filtered stock\n",
    "sp500_hist_data_closing['custom_index'] = sp500_hist_data_closing.mean(axis=1)\n",
    "\n",
    "#Select only the average price of all fetch stocks\n",
    "position_of_avg_price = len(sp500_hist_data_closing.columns)\n",
    "\n",
    "#Select only date and price\n",
    "sp500_hist_data_closing_only = sp500_hist_data_closing.iloc[:,int(position_of_avg_price)-1]\n",
    "\n",
    "#Print the data frame to make sure the data is fetched correctly\n",
    "sp500_hist_data_closing_only\n",
    "\n",
    "#Find the division factor to transform the data to base 100 for easy comparison\n",
    "division_factor_filtered_sp500 = sp500_hist_data_closing_only.iloc[0]\n",
    "\n",
    "#Transform closing price into base 100 for easy comparison\n",
    "sp500_hist_data_closing_only = (sp500_hist_data_closing_only/division_factor_filtered_sp500)*100\n",
    "\n",
    "#Print the data frame to make sure the data is manipulated correctly\n",
    "sp500_hist_data_closing_only.head()"
   ]
  },
  {
   "cell_type": "markdown",
   "id": "e6e93d2c-66ab-4717-8de5-85de9e84f4e5",
   "metadata": {},
   "source": [
    "# Compute the index for ALL stocks in the S&P500"
   ]
  },
  {
   "cell_type": "code",
   "execution_count": 14,
   "id": "0873e8ec-f01e-4bcb-9941-2fc90f5599dd",
   "metadata": {},
   "outputs": [
    {
     "name": "stdout",
     "output_type": "stream",
     "text": [
      "[*********************100%***********************]  446 of 446 completed\n"
     ]
    }
   ],
   "source": [
    "# Fetch the data for ALL S&P 500 as an index for comparison\n",
    "\n",
    "# Create and execute a query to return the list of tickers for S&P 500\n",
    "query_all_sp500 = \"\"\"\n",
    "SELECT company_ticker\n",
    "FROM esg_score_info\n",
    "\"\"\"\n",
    "\n",
    "# read in your SQL query results using pandas\n",
    "all_sp500_df = pd.read_sql(query_all_sp500, con=engine)\n",
    "all_sp500_ticker = all_sp500_df['company_ticker']\n",
    "\n",
    "#Download historical data for S&P 500\n",
    "all_sp500_hist_data = yf.download(list(all_sp500_ticker), start=\"2020-01-01\", end=\"2020-04-30\")\n"
   ]
  },
  {
   "cell_type": "code",
   "execution_count": 15,
   "id": "a78d9051-517f-4462-9b9b-29de6a53e1dd",
   "metadata": {},
   "outputs": [
    {
     "data": {
      "text/html": [
       "<div>\n",
       "<style scoped>\n",
       "    .dataframe tbody tr th:only-of-type {\n",
       "        vertical-align: middle;\n",
       "    }\n",
       "\n",
       "    .dataframe tbody tr th {\n",
       "        vertical-align: top;\n",
       "    }\n",
       "\n",
       "    .dataframe thead tr th {\n",
       "        text-align: left;\n",
       "    }\n",
       "\n",
       "    .dataframe thead tr:last-of-type th {\n",
       "        text-align: right;\n",
       "    }\n",
       "</style>\n",
       "<table border=\"1\" class=\"dataframe\">\n",
       "  <thead>\n",
       "    <tr>\n",
       "      <th></th>\n",
       "      <th colspan=\"21\" halign=\"left\">Adj Close</th>\n",
       "    </tr>\n",
       "    <tr>\n",
       "      <th></th>\n",
       "      <th>A</th>\n",
       "      <th>AAL</th>\n",
       "      <th>AAP</th>\n",
       "      <th>AAPL</th>\n",
       "      <th>ABBV</th>\n",
       "      <th>ABC</th>\n",
       "      <th>ABT</th>\n",
       "      <th>ACN</th>\n",
       "      <th>ADBE</th>\n",
       "      <th>ADI</th>\n",
       "      <th>...</th>\n",
       "      <th>WTW</th>\n",
       "      <th>WY</th>\n",
       "      <th>WYNN</th>\n",
       "      <th>XEL</th>\n",
       "      <th>XOM</th>\n",
       "      <th>XRAY</th>\n",
       "      <th>XYL</th>\n",
       "      <th>YUM</th>\n",
       "      <th>ZBH</th>\n",
       "      <th>ZTS</th>\n",
       "    </tr>\n",
       "    <tr>\n",
       "      <th>Date</th>\n",
       "      <th></th>\n",
       "      <th></th>\n",
       "      <th></th>\n",
       "      <th></th>\n",
       "      <th></th>\n",
       "      <th></th>\n",
       "      <th></th>\n",
       "      <th></th>\n",
       "      <th></th>\n",
       "      <th></th>\n",
       "      <th></th>\n",
       "      <th></th>\n",
       "      <th></th>\n",
       "      <th></th>\n",
       "      <th></th>\n",
       "      <th></th>\n",
       "      <th></th>\n",
       "      <th></th>\n",
       "      <th></th>\n",
       "      <th></th>\n",
       "      <th></th>\n",
       "    </tr>\n",
       "  </thead>\n",
       "  <tbody>\n",
       "    <tr>\n",
       "      <th>2020-01-02</th>\n",
       "      <td>84.799675</td>\n",
       "      <td>28.982893</td>\n",
       "      <td>155.478271</td>\n",
       "      <td>74.207466</td>\n",
       "      <td>80.137352</td>\n",
       "      <td>82.064140</td>\n",
       "      <td>84.001160</td>\n",
       "      <td>203.776108</td>\n",
       "      <td>334.429993</td>\n",
       "      <td>116.998917</td>\n",
       "      <td>...</td>\n",
       "      <td>204.279999</td>\n",
       "      <td>26.965099</td>\n",
       "      <td>142.405029</td>\n",
       "      <td>59.119480</td>\n",
       "      <td>61.174892</td>\n",
       "      <td>55.990772</td>\n",
       "      <td>77.805450</td>\n",
       "      <td>98.133003</td>\n",
       "      <td>147.066025</td>\n",
       "      <td>132.432312</td>\n",
       "    </tr>\n",
       "    <tr>\n",
       "      <th>2020-01-03</th>\n",
       "      <td>83.438141</td>\n",
       "      <td>27.548195</td>\n",
       "      <td>155.488022</td>\n",
       "      <td>73.486023</td>\n",
       "      <td>79.376678</td>\n",
       "      <td>81.032082</td>\n",
       "      <td>82.977119</td>\n",
       "      <td>203.436722</td>\n",
       "      <td>331.809998</td>\n",
       "      <td>114.939316</td>\n",
       "      <td>...</td>\n",
       "      <td>204.330002</td>\n",
       "      <td>27.010975</td>\n",
       "      <td>140.292755</td>\n",
       "      <td>59.403793</td>\n",
       "      <td>60.683083</td>\n",
       "      <td>55.371174</td>\n",
       "      <td>78.263412</td>\n",
       "      <td>97.825630</td>\n",
       "      <td>146.681580</td>\n",
       "      <td>132.452057</td>\n",
       "    </tr>\n",
       "    <tr>\n",
       "      <th>2020-01-06</th>\n",
       "      <td>83.684799</td>\n",
       "      <td>27.219410</td>\n",
       "      <td>152.932632</td>\n",
       "      <td>74.071579</td>\n",
       "      <td>80.003105</td>\n",
       "      <td>82.218468</td>\n",
       "      <td>83.411850</td>\n",
       "      <td>202.108276</td>\n",
       "      <td>333.709991</td>\n",
       "      <td>113.588921</td>\n",
       "      <td>...</td>\n",
       "      <td>204.580002</td>\n",
       "      <td>26.955923</td>\n",
       "      <td>140.015091</td>\n",
       "      <td>59.318501</td>\n",
       "      <td>61.149014</td>\n",
       "      <td>55.676056</td>\n",
       "      <td>77.756737</td>\n",
       "      <td>97.768005</td>\n",
       "      <td>145.833908</td>\n",
       "      <td>131.435150</td>\n",
       "    </tr>\n",
       "    <tr>\n",
       "      <th>2020-01-07</th>\n",
       "      <td>83.941315</td>\n",
       "      <td>27.119778</td>\n",
       "      <td>151.118530</td>\n",
       "      <td>73.723213</td>\n",
       "      <td>79.546707</td>\n",
       "      <td>81.630096</td>\n",
       "      <td>82.948128</td>\n",
       "      <td>197.744766</td>\n",
       "      <td>333.390015</td>\n",
       "      <td>116.173134</td>\n",
       "      <td>...</td>\n",
       "      <td>204.160004</td>\n",
       "      <td>26.781599</td>\n",
       "      <td>140.679504</td>\n",
       "      <td>59.195293</td>\n",
       "      <td>60.648575</td>\n",
       "      <td>55.971104</td>\n",
       "      <td>77.464417</td>\n",
       "      <td>97.940903</td>\n",
       "      <td>145.705765</td>\n",
       "      <td>131.879440</td>\n",
       "    </tr>\n",
       "    <tr>\n",
       "      <th>2020-01-08</th>\n",
       "      <td>84.770073</td>\n",
       "      <td>27.737495</td>\n",
       "      <td>149.382446</td>\n",
       "      <td>74.909149</td>\n",
       "      <td>80.110497</td>\n",
       "      <td>82.421021</td>\n",
       "      <td>83.286255</td>\n",
       "      <td>198.132614</td>\n",
       "      <td>337.869995</td>\n",
       "      <td>117.222366</td>\n",
       "      <td>...</td>\n",
       "      <td>204.389999</td>\n",
       "      <td>26.882524</td>\n",
       "      <td>141.562103</td>\n",
       "      <td>59.138432</td>\n",
       "      <td>59.733971</td>\n",
       "      <td>56.561207</td>\n",
       "      <td>77.727501</td>\n",
       "      <td>98.113785</td>\n",
       "      <td>147.450455</td>\n",
       "      <td>131.593124</td>\n",
       "    </tr>\n",
       "  </tbody>\n",
       "</table>\n",
       "<p>5 rows × 446 columns</p>\n",
       "</div>"
      ],
      "text/plain": [
       "            Adj Close                                                          \\\n",
       "                    A        AAL         AAP       AAPL       ABBV        ABC   \n",
       "Date                                                                            \n",
       "2020-01-02  84.799675  28.982893  155.478271  74.207466  80.137352  82.064140   \n",
       "2020-01-03  83.438141  27.548195  155.488022  73.486023  79.376678  81.032082   \n",
       "2020-01-06  83.684799  27.219410  152.932632  74.071579  80.003105  82.218468   \n",
       "2020-01-07  83.941315  27.119778  151.118530  73.723213  79.546707  81.630096   \n",
       "2020-01-08  84.770073  27.737495  149.382446  74.909149  80.110497  82.421021   \n",
       "\n",
       "                                                           ...              \\\n",
       "                  ABT         ACN        ADBE         ADI  ...         WTW   \n",
       "Date                                                       ...               \n",
       "2020-01-02  84.001160  203.776108  334.429993  116.998917  ...  204.279999   \n",
       "2020-01-03  82.977119  203.436722  331.809998  114.939316  ...  204.330002   \n",
       "2020-01-06  83.411850  202.108276  333.709991  113.588921  ...  204.580002   \n",
       "2020-01-07  82.948128  197.744766  333.390015  116.173134  ...  204.160004   \n",
       "2020-01-08  83.286255  198.132614  337.869995  117.222366  ...  204.389999   \n",
       "\n",
       "                                                                               \\\n",
       "                   WY        WYNN        XEL        XOM       XRAY        XYL   \n",
       "Date                                                                            \n",
       "2020-01-02  26.965099  142.405029  59.119480  61.174892  55.990772  77.805450   \n",
       "2020-01-03  27.010975  140.292755  59.403793  60.683083  55.371174  78.263412   \n",
       "2020-01-06  26.955923  140.015091  59.318501  61.149014  55.676056  77.756737   \n",
       "2020-01-07  26.781599  140.679504  59.195293  60.648575  55.971104  77.464417   \n",
       "2020-01-08  26.882524  141.562103  59.138432  59.733971  56.561207  77.727501   \n",
       "\n",
       "                                               \n",
       "                  YUM         ZBH         ZTS  \n",
       "Date                                           \n",
       "2020-01-02  98.133003  147.066025  132.432312  \n",
       "2020-01-03  97.825630  146.681580  132.452057  \n",
       "2020-01-06  97.768005  145.833908  131.435150  \n",
       "2020-01-07  97.940903  145.705765  131.879440  \n",
       "2020-01-08  98.113785  147.450455  131.593124  \n",
       "\n",
       "[5 rows x 446 columns]"
      ]
     },
     "execution_count": 15,
     "metadata": {},
     "output_type": "execute_result"
    }
   ],
   "source": [
    "#Count the number of column fetched\n",
    "all_sp500_column_count = (len(all_sp500_hist_data.columns))/6\n",
    "\n",
    "#Fetch only the \"Adjusted Closing Price\" from the data frame\n",
    "all_sp500_hist_data_closing = all_sp500_hist_data.iloc[:,0:int(all_sp500_column_count)]\n",
    "\n",
    "#Print the data frame to make sure the data is fetched correctly\n",
    "all_sp500_hist_data_closing.head()\n"
   ]
  },
  {
   "cell_type": "code",
   "execution_count": 16,
   "id": "0a0c64fc-a718-41d9-9c7c-6e3a3972297b",
   "metadata": {},
   "outputs": [
    {
     "data": {
      "text/plain": [
       "Date\n",
       "2020-01-02    100.000000\n",
       "2020-01-03     99.612927\n",
       "2020-01-06     99.804079\n",
       "2020-01-07     99.705320\n",
       "2020-01-08    100.090551\n",
       "Name: (custom_index, ), dtype: float64"
      ]
     },
     "execution_count": 16,
     "metadata": {},
     "output_type": "execute_result"
    }
   ],
   "source": [
    "#Create the \"Custom_Index\" column to calculate the average price of ALL stock in S&P500\n",
    "all_sp500_hist_data_closing['custom_index'] = all_sp500_hist_data_closing.mean(axis=1)\n",
    "\n",
    "#Select only the average price of all fetch stocks\n",
    "all_position_of_avg_price = len(all_sp500_hist_data_closing.columns)\n",
    "\n",
    "#Select only date and price\n",
    "all_sp500_hist_data_closing_only = all_sp500_hist_data_closing.iloc[:,int(all_position_of_avg_price)-1]\n",
    "\n",
    "#Find the division factor to transform the data to base 100 for easy comparison\n",
    "division_factor_all_sp500 = all_sp500_hist_data_closing_only.iloc[0]\n",
    "\n",
    "#Transform closing price into base 100 for easy comparison\n",
    "all_sp500_hist_data_closing_only = (all_sp500_hist_data_closing_only/division_factor_all_sp500)*100\n",
    "\n",
    "#Print the data frame to make sure the data is manipulated correctly\n",
    "all_sp500_hist_data_closing_only.head()"
   ]
  },
  {
   "cell_type": "markdown",
   "id": "198d96e0-c637-4058-96d9-0d49007c2ef8",
   "metadata": {},
   "source": [
    "# Combine the data to plot in a line graph\n"
   ]
  },
  {
   "cell_type": "code",
   "execution_count": 17,
   "id": "e1b1f8e5-4b22-4848-841e-8ee09956d720",
   "metadata": {},
   "outputs": [
    {
     "data": {
      "text/plain": [
       "<AxesSubplot:title={'center':'The Price Index of Stock Filtered [E score >= 10 ; S score >= 10; G score >= 10]'}, xlabel='Date', ylabel='Price Index'>"
      ]
     },
     "execution_count": 17,
     "metadata": {},
     "output_type": "execute_result"
    },
    {
     "data": {
      "image/png": "[encoded data removed]",
      "text/plain": [
       "<Figure size 720x504 with 1 Axes>"
      ]
     },
     "metadata": {
      "needs_background": "light"
     },
     "output_type": "display_data"
    }
   ],
   "source": [
    "#Plot the filtered data frame\n",
    "sp500_hist_data_closing_only.plot(\n",
    "    title=f\"The Price Index of Stock Filtered [E score >= {e_score} ; S score >= {s_score}; G score >= {g_score}]\", \n",
    "    xlabel=\"Date\", \n",
    "    ylabel=\"Price Index\", \n",
    "    figsize=(10,7),\n",
    "    legend=\"top\",\n",
    "    label=f\"Filtered Result [E>={e_score}; S=>{s_score}; G=>{g_score}]\",\n",
    "    linewidth=3\n",
    ")\n",
    "\n",
    "#Plot the \"ALL\" S&P500 index data frame\n",
    "all_sp500_hist_data_closing_only.plot(\n",
    "    legend=\"top\",\n",
    "    label=\"All S&P500 Benchmark\",\n",
    "    linewidth=3\n",
    ")"
   ]
  },
  {
   "cell_type": "code",
   "execution_count": 18,
   "id": "bebf9c4d-5eeb-4b7c-a5f5-aca488a3159b",
   "metadata": {},
   "outputs": [],
   "source": [
    "# To do\n",
    "# -------\n",
    "# table and column name for industry\n",
    "# integrate the SQL code with streamlit"
   ]
  },
  {
   "cell_type": "code",
   "execution_count": null,
   "id": "9fe21b46-b850-4a0a-8638-b81e89369ae4",
   "metadata": {},
   "outputs": [],
   "source": []
  }
 ],
 "metadata": {
  "kernelspec": {
   "display_name": "Python (dev)",
   "language": "python",
   "name": "dev"
  },
  "language_info": {
   "codemirror_mode": {
    "name": "ipython",
    "version": 3
   },
   "file_extension": ".py",
   "mimetype": "text/x-python",
   "name": "python",
   "nbconvert_exporter": "python",
   "pygments_lexer": "ipython3",
   "version": "3.7.11"
  }
 },
 "nbformat": 4,
 "nbformat_minor": 5
}
