{
 "cells": [
  {
   "cell_type": "code",
   "execution_count": 4,
   "id": "d3e5b7d4-2bc2-4e14-a0d9-130dc338be3c",
   "metadata": {},
   "outputs": [],
   "source": [
    "import pandas as pd\n",
    "from pathlib import Path\n",
    "import numpy as np\n",
    "import sqlalchemy"
   ]
  },
  {
   "cell_type": "code",
   "execution_count": 5,
   "id": "ee256ba3-062c-453e-86d9-2846602721da",
   "metadata": {},
   "outputs": [
    {
     "data": {
      "text/html": [
       "<div>\n",
       "<style scoped>\n",
       "    .dataframe tbody tr th:only-of-type {\n",
       "        vertical-align: middle;\n",
       "    }\n",
       "\n",
       "    .dataframe tbody tr th {\n",
       "        vertical-align: top;\n",
       "    }\n",
       "\n",
       "    .dataframe thead th {\n",
       "        text-align: right;\n",
       "    }\n",
       "</style>\n",
       "<table border=\"1\" class=\"dataframe\">\n",
       "  <thead>\n",
       "    <tr style=\"text-align: right;\">\n",
       "      <th></th>\n",
       "      <th>ticker</th>\n",
       "      <th>e_score</th>\n",
       "      <th>s_score</th>\n",
       "      <th>g_score</th>\n",
       "    </tr>\n",
       "  </thead>\n",
       "  <tbody>\n",
       "    <tr>\n",
       "      <th>0</th>\n",
       "      <td>APPL</td>\n",
       "      <td>1</td>\n",
       "      <td>8</td>\n",
       "      <td>1</td>\n",
       "    </tr>\n",
       "    <tr>\n",
       "      <th>1</th>\n",
       "      <td>GOOG</td>\n",
       "      <td>3</td>\n",
       "      <td>4</td>\n",
       "      <td>3</td>\n",
       "    </tr>\n",
       "    <tr>\n",
       "      <th>2</th>\n",
       "      <td>AMZN</td>\n",
       "      <td>5</td>\n",
       "      <td>2</td>\n",
       "      <td>1</td>\n",
       "    </tr>\n",
       "    <tr>\n",
       "      <th>3</th>\n",
       "      <td>COKE</td>\n",
       "      <td>7</td>\n",
       "      <td>1</td>\n",
       "      <td>5</td>\n",
       "    </tr>\n",
       "    <tr>\n",
       "      <th>4</th>\n",
       "      <td>BB</td>\n",
       "      <td>8</td>\n",
       "      <td>5</td>\n",
       "      <td>4</td>\n",
       "    </tr>\n",
       "  </tbody>\n",
       "</table>\n",
       "</div>"
      ],
      "text/plain": [
       "  ticker  e_score  s_score  g_score\n",
       "0   APPL        1        8        1\n",
       "1   GOOG        3        4        3\n",
       "2   AMZN        5        2        1\n",
       "3   COKE        7        1        5\n",
       "4     BB        8        5        4"
      ]
     },
     "execution_count": 5,
     "metadata": {},
     "output_type": "execute_result"
    }
   ],
   "source": [
    "# Using the Pandas read_csv funcion and the Path module, \n",
    "# read \"sample_esg.csv\" file into a Pandas DataFrame\n",
    "esg_df = pd.read_csv(\n",
    "    Path(\"Dataset/sample_esg.csv\")\n",
    ")\n",
    "\n",
    "# Review the DataFrame\n",
    "esg_df.head()"
   ]
  },
  {
   "cell_type": "code",
   "execution_count": 6,
   "id": "c5375295-f467-49f5-a57a-6d204424d7bc",
   "metadata": {},
   "outputs": [
    {
     "data": {
      "text/plain": [
       "Engine(sqlite:///)"
      ]
     },
     "execution_count": 6,
     "metadata": {},
     "output_type": "execute_result"
    }
   ],
   "source": [
    "# Create the connection string for your SQLite database\n",
    "database_connection_string = 'sqlite:///'\n",
    "\n",
    "# Pass the connection string to the SQLAlchemy create_engine function\n",
    "engine = sqlalchemy.create_engine(database_connection_string)\n",
    "\n",
    "# Confirm that the database engine was created.\n",
    "engine"
   ]
  },
  {
   "cell_type": "code",
   "execution_count": 9,
   "id": "f84705fc-a03b-4566-8aab-b7b0a2149842",
   "metadata": {},
   "outputs": [
    {
     "name": "stderr",
     "output_type": "stream",
     "text": [
      "/Users/puntepbhayakaporn/opt/anaconda3/envs/dev/lib/python3.7/site-packages/ipykernel_launcher.py:9: SADeprecationWarning: The Engine.table_names() method is deprecated and will be removed in a future release.  Please refer to Inspector.get_table_names(). (deprecated since: 1.4)\n",
      "  if __name__ == '__main__':\n"
     ]
    },
    {
     "data": {
      "text/plain": [
       "['esg_score_info']"
      ]
     },
     "execution_count": 9,
     "metadata": {},
     "output_type": "execute_result"
    }
   ],
   "source": [
    "esg_df.to_sql(\n",
    "    'esg_score_info', #New table name\n",
    "    engine, \n",
    "    index=False, \n",
    "    if_exists='replace'\n",
    ")\n",
    "\n",
    "# Confirm that the table was created by calling the table_names function\n",
    "engine.table_names()"
   ]
  },
  {
   "cell_type": "code",
   "execution_count": 16,
   "id": "927cdad9-5dbd-49e3-a994-ab5fd3527874",
   "metadata": {},
   "outputs": [
    {
     "data": {
      "text/plain": [
       "[('GOOG', 3, 4, 3),\n",
       " ('COKE', 7, 1, 5),\n",
       " ('BB', 8, 5, 4),\n",
       " ('TAP', 1, 8, 8),\n",
       " ('JAN', 5, 2, 9)]"
      ]
     },
     "execution_count": 16,
     "metadata": {},
     "output_type": "execute_result"
    }
   ],
   "source": [
    "# Create and execute a query to return all columns for the 10 highest credit scores.\n",
    "query1 = \"\"\"\n",
    "SELECT *\n",
    "FROM esg_score_info\n",
    "WHERE e_score >= 1 AND s_score >= 1 AND g_score >= 2;\n",
    "\"\"\"\n",
    "\n",
    "# Call on the database engine to execute the query\n",
    "results = engine.execute(query1)\n",
    "\n",
    "# List of the results of the database query\n",
    "list(results)"
   ]
  },
  {
   "cell_type": "code",
   "execution_count": null,
   "id": "bebf9c4d-5eeb-4b7c-a5f5-aca488a3159b",
   "metadata": {},
   "outputs": [],
   "source": [
    "# upload my work on github correctly\n",
    "# csv name and column name to pull the info\n",
    "# integrate the SQL code with streamlit"
   ]
  }
 ],
 "metadata": {
  "kernelspec": {
   "display_name": "Python 3 (ipykernel)",
   "language": "python",
   "name": "python3"
  },
  "language_info": {
   "codemirror_mode": {
    "name": "ipython",
    "version": 3
   },
   "file_extension": ".py",
   "mimetype": "text/x-python",
   "name": "python",
   "nbconvert_exporter": "python",
   "pygments_lexer": "ipython3",
   "version": "3.7.11"
  }
 },
 "nbformat": 4,
 "nbformat_minor": 5
}
