{
 "cells": [
  {
   "cell_type": "markdown",
   "id": "bdb2ab99-db27-4959-a6ec-6f3808526417",
   "metadata": {},
   "source": [
    "## Import the Required Dependencies"
   ]
  },
  {
   "cell_type": "code",
   "execution_count": 180,
   "id": "297ec333-86e8-4835-a0af-df81c6a0258a",
   "metadata": {},
   "outputs": [],
   "source": [
    "#Import dependencies\n",
    "import pandas as pd\n",
    "from pathlib import Path\n",
    "import numpy as np"
   ]
  },
  {
   "cell_type": "markdown",
   "id": "5fe30ec4-c856-4d2f-85fc-2606bbb37414",
   "metadata": {},
   "source": [
    "## Read in the CSV Data File"
   ]
  },
  {
   "cell_type": "code",
   "execution_count": 181,
   "id": "c0106567-13fe-45e4-8b78-d38e112c67eb",
   "metadata": {},
   "outputs": [],
   "source": [
    "#Read in the csv file\n",
    "raw_df = pd.read_csv(\n",
    "    Path(\"./Dataset/constituents.csv\")\n",
    ")"
   ]
  },
  {
   "cell_type": "markdown",
   "id": "39101b2d-b864-4b2c-a95d-7efcdbd6c7a4",
   "metadata": {},
   "source": [
    "## Clean Data for Analysis"
   ]
  },
  {
   "cell_type": "code",
   "execution_count": 182,
   "id": "7f0dcd05-b5d2-4e00-8778-d8e0f786cb54",
   "metadata": {},
   "outputs": [
    {
     "name": "stdout",
     "output_type": "stream",
     "text": [
      "0                                  MMM,3M,Industrials\n",
      "1                         AOS,A. O. Smith,Industrials\n",
      "2                 ABT,Abbott Laboratories,Health Care\n",
      "3                             ABBV,AbbVie,Health Care\n",
      "4                            ABMD,Abiomed,Health Care\n",
      "                            ...                      \n",
      "500            YUM,Yum! Brands,Consumer Discretionary\n",
      "501    ZBRA,Zebra Technologies,Information Technology\n",
      "502                     ZBH,Zimmer Biomet,Health Care\n",
      "503                     ZION,Zions Bancorp,Financials\n",
      "504                            ZTS,Zoetis,Health Care\n",
      "Name: Symbol,Name,Sector, Length: 505, dtype: object\n"
     ]
    }
   ],
   "source": [
    "print(raw_df[\"Symbol,Name,Sector\"])\n",
    "\n",
    "#Split Pandas series into individual lists\n",
    "for row in raw_df:\n",
    "    string_list=raw_df[\"Symbol,Name,Sector\"].str.split(\",\")"
   ]
  },
  {
   "cell_type": "code",
   "execution_count": 183,
   "id": "199de5dd-fafb-4363-ba43-2bebfb52cb0f",
   "metadata": {},
   "outputs": [
    {
     "name": "stdout",
     "output_type": "stream",
     "text": [
      "0                                 [MMM, 3M, Industrials]\n",
      "1                        [AOS, A. O. Smith, Industrials]\n",
      "2                [ABT, Abbott Laboratories, Health Care]\n",
      "3                            [ABBV, AbbVie, Health Care]\n",
      "4                           [ABMD, Abiomed, Health Care]\n",
      "                             ...                        \n",
      "500           [YUM, Yum! Brands, Consumer Discretionary]\n",
      "501    [ZBRA, Zebra Technologies, Information Technol...\n",
      "502                    [ZBH, Zimmer Biomet, Health Care]\n",
      "503                    [ZION, Zions Bancorp, Financials]\n",
      "504                           [ZTS, Zoetis, Health Care]\n",
      "Name: Symbol,Name,Sector, Length: 505, dtype: object\n"
     ]
    }
   ],
   "source": [
    "#View new individual lists\n",
    "print(string_list)"
   ]
  },
  {
   "cell_type": "code",
   "execution_count": 184,
   "id": "e20a397f-156d-4497-bd27-16db55aa2444",
   "metadata": {},
   "outputs": [],
   "source": [
    "#Create a new list\n",
    "new_list = []\n",
    "\n",
    "#Split the elements in these lists by commas\n",
    "for string in string_list:\n",
    "    for word in string:\n",
    "        word.split(\",\")\n",
    "        new_list.append(word)"
   ]
  },
  {
   "cell_type": "code",
   "execution_count": 185,
   "id": "e112a4c7-4ad0-494f-83b1-d797ec995b00",
   "metadata": {},
   "outputs": [],
   "source": [
    "#Group individual elements into groups of 3\n",
    "chunks = [new_list[x:x+3] for x in range(0, len(new_list), 3)]"
   ]
  },
  {
   "cell_type": "code",
   "execution_count": 186,
   "id": "2b0cf3d2-7ec2-43b5-875d-9f20f0aff1db",
   "metadata": {},
   "outputs": [
    {
     "data": {
      "text/html": [
       "<div>\n",
       "<style scoped>\n",
       "    .dataframe tbody tr th:only-of-type {\n",
       "        vertical-align: middle;\n",
       "    }\n",
       "\n",
       "    .dataframe tbody tr th {\n",
       "        vertical-align: top;\n",
       "    }\n",
       "\n",
       "    .dataframe thead th {\n",
       "        text-align: right;\n",
       "    }\n",
       "</style>\n",
       "<table border=\"1\" class=\"dataframe\">\n",
       "  <thead>\n",
       "    <tr style=\"text-align: right;\">\n",
       "      <th></th>\n",
       "      <th>0</th>\n",
       "      <th>1</th>\n",
       "      <th>2</th>\n",
       "    </tr>\n",
       "  </thead>\n",
       "  <tbody>\n",
       "    <tr>\n",
       "      <th>0</th>\n",
       "      <td>MMM</td>\n",
       "      <td>3M</td>\n",
       "      <td>Industrials</td>\n",
       "    </tr>\n",
       "    <tr>\n",
       "      <th>1</th>\n",
       "      <td>AOS</td>\n",
       "      <td>A. O. Smith</td>\n",
       "      <td>Industrials</td>\n",
       "    </tr>\n",
       "    <tr>\n",
       "      <th>2</th>\n",
       "      <td>ABT</td>\n",
       "      <td>Abbott Laboratories</td>\n",
       "      <td>Health Care</td>\n",
       "    </tr>\n",
       "    <tr>\n",
       "      <th>3</th>\n",
       "      <td>ABBV</td>\n",
       "      <td>AbbVie</td>\n",
       "      <td>Health Care</td>\n",
       "    </tr>\n",
       "    <tr>\n",
       "      <th>4</th>\n",
       "      <td>ABMD</td>\n",
       "      <td>Abiomed</td>\n",
       "      <td>Health Care</td>\n",
       "    </tr>\n",
       "    <tr>\n",
       "      <th>...</th>\n",
       "      <td>...</td>\n",
       "      <td>...</td>\n",
       "      <td>...</td>\n",
       "    </tr>\n",
       "    <tr>\n",
       "      <th>500</th>\n",
       "      <td>YUM</td>\n",
       "      <td>Yum! Brands</td>\n",
       "      <td>Consumer Discretionary</td>\n",
       "    </tr>\n",
       "    <tr>\n",
       "      <th>501</th>\n",
       "      <td>ZBRA</td>\n",
       "      <td>Zebra Technologies</td>\n",
       "      <td>Information Technology</td>\n",
       "    </tr>\n",
       "    <tr>\n",
       "      <th>502</th>\n",
       "      <td>ZBH</td>\n",
       "      <td>Zimmer Biomet</td>\n",
       "      <td>Health Care</td>\n",
       "    </tr>\n",
       "    <tr>\n",
       "      <th>503</th>\n",
       "      <td>ZION</td>\n",
       "      <td>Zions Bancorp</td>\n",
       "      <td>Financials</td>\n",
       "    </tr>\n",
       "    <tr>\n",
       "      <th>504</th>\n",
       "      <td>ZTS</td>\n",
       "      <td>Zoetis</td>\n",
       "      <td>Health Care</td>\n",
       "    </tr>\n",
       "  </tbody>\n",
       "</table>\n",
       "<p>505 rows × 3 columns</p>\n",
       "</div>"
      ],
      "text/plain": [
       "        0                    1                       2\n",
       "0     MMM                   3M             Industrials\n",
       "1     AOS          A. O. Smith             Industrials\n",
       "2     ABT  Abbott Laboratories             Health Care\n",
       "3    ABBV               AbbVie             Health Care\n",
       "4    ABMD              Abiomed             Health Care\n",
       "..    ...                  ...                     ...\n",
       "500   YUM          Yum! Brands  Consumer Discretionary\n",
       "501  ZBRA   Zebra Technologies  Information Technology\n",
       "502   ZBH        Zimmer Biomet             Health Care\n",
       "503  ZION        Zions Bancorp              Financials\n",
       "504   ZTS               Zoetis             Health Care\n",
       "\n",
       "[505 rows x 3 columns]"
      ]
     },
     "execution_count": 186,
     "metadata": {},
     "output_type": "execute_result"
    }
   ],
   "source": [
    "#Recreate dataframe with properly grouped chunks\n",
    "snp500_df = pd.DataFrame(chunks)\n",
    "snp500_df"
   ]
  },
  {
   "cell_type": "code",
   "execution_count": 202,
   "id": "8b991b7b-ddd2-4eec-8cc5-4b64a24ec7e3",
   "metadata": {
    "tags": []
   },
   "outputs": [
    {
     "data": {
      "text/html": [
       "<div>\n",
       "<style scoped>\n",
       "    .dataframe tbody tr th:only-of-type {\n",
       "        vertical-align: middle;\n",
       "    }\n",
       "\n",
       "    .dataframe tbody tr th {\n",
       "        vertical-align: top;\n",
       "    }\n",
       "\n",
       "    .dataframe thead th {\n",
       "        text-align: right;\n",
       "    }\n",
       "</style>\n",
       "<table border=\"1\" class=\"dataframe\">\n",
       "  <thead>\n",
       "    <tr style=\"text-align: right;\">\n",
       "      <th></th>\n",
       "      <th>Company Ticker</th>\n",
       "      <th>Company Name</th>\n",
       "      <th>Company Industry</th>\n",
       "    </tr>\n",
       "  </thead>\n",
       "  <tbody>\n",
       "    <tr>\n",
       "      <th>0</th>\n",
       "      <td>MMM</td>\n",
       "      <td>3M</td>\n",
       "      <td>Industrials</td>\n",
       "    </tr>\n",
       "    <tr>\n",
       "      <th>1</th>\n",
       "      <td>AOS</td>\n",
       "      <td>A. O. Smith</td>\n",
       "      <td>Industrials</td>\n",
       "    </tr>\n",
       "    <tr>\n",
       "      <th>2</th>\n",
       "      <td>ABT</td>\n",
       "      <td>Abbott Laboratories</td>\n",
       "      <td>Health Care</td>\n",
       "    </tr>\n",
       "    <tr>\n",
       "      <th>3</th>\n",
       "      <td>ABBV</td>\n",
       "      <td>AbbVie</td>\n",
       "      <td>Health Care</td>\n",
       "    </tr>\n",
       "    <tr>\n",
       "      <th>4</th>\n",
       "      <td>ABMD</td>\n",
       "      <td>Abiomed</td>\n",
       "      <td>Health Care</td>\n",
       "    </tr>\n",
       "    <tr>\n",
       "      <th>...</th>\n",
       "      <td>...</td>\n",
       "      <td>...</td>\n",
       "      <td>...</td>\n",
       "    </tr>\n",
       "    <tr>\n",
       "      <th>500</th>\n",
       "      <td>YUM</td>\n",
       "      <td>Yum! Brands</td>\n",
       "      <td>Consumer Discretionary</td>\n",
       "    </tr>\n",
       "    <tr>\n",
       "      <th>501</th>\n",
       "      <td>ZBRA</td>\n",
       "      <td>Zebra Technologies</td>\n",
       "      <td>Information Technology</td>\n",
       "    </tr>\n",
       "    <tr>\n",
       "      <th>502</th>\n",
       "      <td>ZBH</td>\n",
       "      <td>Zimmer Biomet</td>\n",
       "      <td>Health Care</td>\n",
       "    </tr>\n",
       "    <tr>\n",
       "      <th>503</th>\n",
       "      <td>ZION</td>\n",
       "      <td>Zions Bancorp</td>\n",
       "      <td>Financials</td>\n",
       "    </tr>\n",
       "    <tr>\n",
       "      <th>504</th>\n",
       "      <td>ZTS</td>\n",
       "      <td>Zoetis</td>\n",
       "      <td>Health Care</td>\n",
       "    </tr>\n",
       "  </tbody>\n",
       "</table>\n",
       "<p>505 rows × 3 columns</p>\n",
       "</div>"
      ],
      "text/plain": [
       "    Company Ticker         Company Name        Company Industry\n",
       "0              MMM                   3M             Industrials\n",
       "1              AOS          A. O. Smith             Industrials\n",
       "2              ABT  Abbott Laboratories             Health Care\n",
       "3             ABBV               AbbVie             Health Care\n",
       "4             ABMD              Abiomed             Health Care\n",
       "..             ...                  ...                     ...\n",
       "500            YUM          Yum! Brands  Consumer Discretionary\n",
       "501           ZBRA   Zebra Technologies  Information Technology\n",
       "502            ZBH        Zimmer Biomet             Health Care\n",
       "503           ZION        Zions Bancorp              Financials\n",
       "504            ZTS               Zoetis             Health Care\n",
       "\n",
       "[505 rows x 3 columns]"
      ]
     },
     "execution_count": 202,
     "metadata": {},
     "output_type": "execute_result"
    }
   ],
   "source": [
    "#Create new, more descriptive column titles\n",
    "columns = [\"Company Ticker\", \"Company Name\", \"Company Industry\"]\n",
    "\n",
    "#Add columns to dataframe using .columns\n",
    "snp500_df.columns = columns\n",
    "snp500_df"
   ]
  },
  {
   "cell_type": "code",
   "execution_count": 275,
   "id": "cf99c2bc-b8b5-48bb-87c7-fcd3535105d7",
   "metadata": {},
   "outputs": [
    {
     "data": {
      "text/html": [
       "<div>\n",
       "<style scoped>\n",
       "    .dataframe tbody tr th:only-of-type {\n",
       "        vertical-align: middle;\n",
       "    }\n",
       "\n",
       "    .dataframe tbody tr th {\n",
       "        vertical-align: top;\n",
       "    }\n",
       "\n",
       "    .dataframe thead th {\n",
       "        text-align: right;\n",
       "    }\n",
       "</style>\n",
       "<table border=\"1\" class=\"dataframe\">\n",
       "  <thead>\n",
       "    <tr style=\"text-align: right;\">\n",
       "      <th></th>\n",
       "      <th>Company Ticker</th>\n",
       "      <th>Company Industry</th>\n",
       "    </tr>\n",
       "    <tr>\n",
       "      <th>Company Name</th>\n",
       "      <th></th>\n",
       "      <th></th>\n",
       "    </tr>\n",
       "  </thead>\n",
       "  <tbody>\n",
       "    <tr>\n",
       "      <th>3M</th>\n",
       "      <td>MMM</td>\n",
       "      <td>Industrials</td>\n",
       "    </tr>\n",
       "    <tr>\n",
       "      <th>A. O. Smith</th>\n",
       "      <td>AOS</td>\n",
       "      <td>Industrials</td>\n",
       "    </tr>\n",
       "    <tr>\n",
       "      <th>Abbott Laboratories</th>\n",
       "      <td>ABT</td>\n",
       "      <td>Health Care</td>\n",
       "    </tr>\n",
       "    <tr>\n",
       "      <th>AbbVie</th>\n",
       "      <td>ABBV</td>\n",
       "      <td>Health Care</td>\n",
       "    </tr>\n",
       "    <tr>\n",
       "      <th>Abiomed</th>\n",
       "      <td>ABMD</td>\n",
       "      <td>Health Care</td>\n",
       "    </tr>\n",
       "    <tr>\n",
       "      <th>...</th>\n",
       "      <td>...</td>\n",
       "      <td>...</td>\n",
       "    </tr>\n",
       "    <tr>\n",
       "      <th>Yum! Brands</th>\n",
       "      <td>YUM</td>\n",
       "      <td>Consumer Discretionary</td>\n",
       "    </tr>\n",
       "    <tr>\n",
       "      <th>Zebra Technologies</th>\n",
       "      <td>ZBRA</td>\n",
       "      <td>Information Technology</td>\n",
       "    </tr>\n",
       "    <tr>\n",
       "      <th>Zimmer Biomet</th>\n",
       "      <td>ZBH</td>\n",
       "      <td>Health Care</td>\n",
       "    </tr>\n",
       "    <tr>\n",
       "      <th>Zions Bancorp</th>\n",
       "      <td>ZION</td>\n",
       "      <td>Financials</td>\n",
       "    </tr>\n",
       "    <tr>\n",
       "      <th>Zoetis</th>\n",
       "      <td>ZTS</td>\n",
       "      <td>Health Care</td>\n",
       "    </tr>\n",
       "  </tbody>\n",
       "</table>\n",
       "<p>505 rows × 2 columns</p>\n",
       "</div>"
      ],
      "text/plain": [
       "                    Company Ticker        Company Industry\n",
       "Company Name                                              \n",
       "3M                             MMM             Industrials\n",
       "A. O. Smith                    AOS             Industrials\n",
       "Abbott Laboratories            ABT             Health Care\n",
       "AbbVie                        ABBV             Health Care\n",
       "Abiomed                       ABMD             Health Care\n",
       "...                            ...                     ...\n",
       "Yum! Brands                    YUM  Consumer Discretionary\n",
       "Zebra Technologies            ZBRA  Information Technology\n",
       "Zimmer Biomet                  ZBH             Health Care\n",
       "Zions Bancorp                 ZION              Financials\n",
       "Zoetis                         ZTS             Health Care\n",
       "\n",
       "[505 rows x 2 columns]"
      ]
     },
     "execution_count": 275,
     "metadata": {},
     "output_type": "execute_result"
    }
   ],
   "source": [
    "snp500_df.set_index(\"Company Name\")"
   ]
  },
  {
   "cell_type": "markdown",
   "id": "3bb8461e-edae-4434-ade4-de27f37bee70",
   "metadata": {},
   "source": [
    "## Create Filters"
   ]
  },
  {
   "cell_type": "code",
   "execution_count": 276,
   "id": "7321c325-a381-4db4-adda-d9eadb7fe6bb",
   "metadata": {},
   "outputs": [],
   "source": [
    "#Create empty lists for filters\n",
    "industrials_list = []\n",
    "health_care_list = []\n",
    "consumer_discretionary_list = []"
   ]
  },
  {
   "cell_type": "code",
   "execution_count": 266,
   "id": "79218e0c-3dc3-47ec-afce-2b5525583b9f",
   "metadata": {},
   "outputs": [],
   "source": [
    "#Add all industial companies to list for filtering\n",
    "for index, row in snp500_df.iterrows():\n",
    "    if row[2] == \"Industrials\":\n",
    "        industrials_list.append(row[0])"
   ]
  },
  {
   "cell_type": "code",
   "execution_count": 267,
   "id": "8aa87f32-85aa-4b47-8580-ce95bc8303af",
   "metadata": {},
   "outputs": [],
   "source": [
    "#Add all health care companies to list for filtering\n",
    "for index, row in snp500_df.iterrows():\n",
    "    if row[2] == \"Health Care\":\n",
    "        health_care_list.append(row[0])"
   ]
  },
  {
   "cell_type": "code",
   "execution_count": 269,
   "id": "9af39b45-e57c-44d1-901d-5b655f9f4fe9",
   "metadata": {},
   "outputs": [],
   "source": [
    "#Add all consumer discretionary companies to list for filtering\n",
    "for index, row in snp500_df.iterrows():\n",
    "    if row[2] == \"Consumer Discretionary\":\n",
    "        consumer_discretionary_list.append(row[0])"
   ]
  },
  {
   "cell_type": "code",
   "execution_count": 274,
   "id": "229541e0-5852-4f61-a322-8132a6cf8f30",
   "metadata": {},
   "outputs": [
    {
     "name": "stdout",
     "output_type": "stream",
     "text": [
      "['MMM', 'AOS', 'ALK', 'ALLE', 'AAL']\n"
     ]
    }
   ],
   "source": [
    "#Display first 5 items in industrials list\n",
    "print(industrials_list[:5])"
   ]
  },
  {
   "cell_type": "code",
   "execution_count": 272,
   "id": "cb78636c-ef00-4908-93a2-e34180c206fe",
   "metadata": {},
   "outputs": [
    {
     "name": "stdout",
     "output_type": "stream",
     "text": [
      "['ABT', 'ABBV', 'ABMD', 'A', 'ALGN']\n"
     ]
    }
   ],
   "source": [
    "#Display first 5 items in health care list\n",
    "print(health_care_list[:5])"
   ]
  },
  {
   "cell_type": "code",
   "execution_count": 273,
   "id": "5c8a7d26-2b34-4d23-b2dd-cb7539e0dda5",
   "metadata": {},
   "outputs": [
    {
     "name": "stdout",
     "output_type": "stream",
     "text": [
      "['AAP', 'AMZN', 'APTV', 'AZO', 'BBWI']\n"
     ]
    }
   ],
   "source": [
    "#Display first 5 items in consumer discretionary list\n",
    "print(consumer_discretionary_list[:5])"
   ]
  }
 ],
 "metadata": {
  "kernelspec": {
   "display_name": "Python 3 (ipykernel)",
   "language": "python",
   "name": "python3"
  },
  "language_info": {
   "codemirror_mode": {
    "name": "ipython",
    "version": 3
   },
   "file_extension": ".py",
   "mimetype": "text/x-python",
   "name": "python",
   "nbconvert_exporter": "python",
   "pygments_lexer": "ipython3",
   "version": "3.7.11"
  }
 },
 "nbformat": 4,
 "nbformat_minor": 5
}
