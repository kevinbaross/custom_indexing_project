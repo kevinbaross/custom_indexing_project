{
 "cells": [
  {
   "cell_type": "markdown",
   "id": "bdb2ab99-db27-4959-a6ec-6f3808526417",
   "metadata": {},
   "source": [
    "## Import the Required Dependencies"
   ]
  },
  {
   "cell_type": "code",
   "execution_count": 1,
   "id": "297ec333-86e8-4835-a0af-df81c6a0258a",
   "metadata": {},
   "outputs": [],
   "source": [
    "#Import dependencies\n",
    "import pandas as pd\n",
    "from pathlib import Path\n",
    "import numpy as np"
   ]
  },
  {
   "cell_type": "markdown",
   "id": "5fe30ec4-c856-4d2f-85fc-2606bbb37414",
   "metadata": {},
   "source": [
    "## Read in the CSV Data File"
   ]
  },
  {
   "cell_type": "code",
   "execution_count": 2,
   "id": "c0106567-13fe-45e4-8b78-d38e112c67eb",
   "metadata": {},
   "outputs": [],
   "source": [
    "#Read in the csv file\n",
    "raw_df = pd.read_csv(\n",
    "    Path(\"./Dataset/constituents.csv\")\n",
    ")"
   ]
  },
  {
   "cell_type": "markdown",
   "id": "39101b2d-b864-4b2c-a95d-7efcdbd6c7a4",
   "metadata": {},
   "source": [
    "## Clean Data for Analysis"
   ]
  },
  {
   "cell_type": "code",
   "execution_count": 3,
   "id": "7f0dcd05-b5d2-4e00-8778-d8e0f786cb54",
   "metadata": {},
   "outputs": [
    {
     "name": "stdout",
     "output_type": "stream",
     "text": [
      "0                                  MMM,3M,Industrials\n",
      "1                         AOS,A. O. Smith,Industrials\n",
      "2                 ABT,Abbott Laboratories,Health Care\n",
      "3                             ABBV,AbbVie,Health Care\n",
      "4                            ABMD,Abiomed,Health Care\n",
      "                            ...                      \n",
      "500            YUM,Yum! Brands,Consumer Discretionary\n",
      "501    ZBRA,Zebra Technologies,Information Technology\n",
      "502                     ZBH,Zimmer Biomet,Health Care\n",
      "503                     ZION,Zions Bancorp,Financials\n",
      "504                            ZTS,Zoetis,Health Care\n",
      "Name: Symbol,Name,Sector, Length: 505, dtype: object\n"
     ]
    }
   ],
   "source": [
    "print(raw_df[\"Symbol,Name,Sector\"])\n",
    "\n",
    "#Split Pandas series into individual lists\n",
    "for row in raw_df:\n",
    "    string_list=raw_df[\"Symbol,Name,Sector\"].str.split(\",\")"
   ]
  },
  {
   "cell_type": "code",
   "execution_count": 4,
   "id": "199de5dd-fafb-4363-ba43-2bebfb52cb0f",
   "metadata": {},
   "outputs": [
    {
     "name": "stdout",
     "output_type": "stream",
     "text": [
      "0                                 [MMM, 3M, Industrials]\n",
      "1                        [AOS, A. O. Smith, Industrials]\n",
      "2                [ABT, Abbott Laboratories, Health Care]\n",
      "3                            [ABBV, AbbVie, Health Care]\n",
      "4                           [ABMD, Abiomed, Health Care]\n",
      "                             ...                        \n",
      "500           [YUM, Yum! Brands, Consumer Discretionary]\n",
      "501    [ZBRA, Zebra Technologies, Information Technol...\n",
      "502                    [ZBH, Zimmer Biomet, Health Care]\n",
      "503                    [ZION, Zions Bancorp, Financials]\n",
      "504                           [ZTS, Zoetis, Health Care]\n",
      "Name: Symbol,Name,Sector, Length: 505, dtype: object\n"
     ]
    }
   ],
   "source": [
    "#View new individual lists\n",
    "print(string_list)"
   ]
  },
  {
   "cell_type": "code",
   "execution_count": 5,
   "id": "e20a397f-156d-4497-bd27-16db55aa2444",
   "metadata": {},
   "outputs": [],
   "source": [
    "#Create a new list\n",
    "new_list = []\n",
    "\n",
    "#Split the elements in these lists by commas\n",
    "for string in string_list:\n",
    "    for word in string:\n",
    "        word.split(\",\")\n",
    "        new_list.append(word)"
   ]
  },
  {
   "cell_type": "code",
   "execution_count": 6,
   "id": "e112a4c7-4ad0-494f-83b1-d797ec995b00",
   "metadata": {},
   "outputs": [],
   "source": [
    "#Group individual elements into groups of 3\n",
    "chunks = [new_list[x:x+3] for x in range(0, len(new_list), 3)]"
   ]
  },
  {
   "cell_type": "code",
   "execution_count": 7,
   "id": "2b0cf3d2-7ec2-43b5-875d-9f20f0aff1db",
   "metadata": {},
   "outputs": [
    {
     "data": {
      "text/html": [
       "<div>\n",
       "<style scoped>\n",
       "    .dataframe tbody tr th:only-of-type {\n",
       "        vertical-align: middle;\n",
       "    }\n",
       "\n",
       "    .dataframe tbody tr th {\n",
       "        vertical-align: top;\n",
       "    }\n",
       "\n",
       "    .dataframe thead th {\n",
       "        text-align: right;\n",
       "    }\n",
       "</style>\n",
       "<table border=\"1\" class=\"dataframe\">\n",
       "  <thead>\n",
       "    <tr style=\"text-align: right;\">\n",
       "      <th></th>\n",
       "      <th>0</th>\n",
       "      <th>1</th>\n",
       "      <th>2</th>\n",
       "    </tr>\n",
       "  </thead>\n",
       "  <tbody>\n",
       "    <tr>\n",
       "      <th>0</th>\n",
       "      <td>MMM</td>\n",
       "      <td>3M</td>\n",
       "      <td>Industrials</td>\n",
       "    </tr>\n",
       "    <tr>\n",
       "      <th>1</th>\n",
       "      <td>AOS</td>\n",
       "      <td>A. O. Smith</td>\n",
       "      <td>Industrials</td>\n",
       "    </tr>\n",
       "    <tr>\n",
       "      <th>2</th>\n",
       "      <td>ABT</td>\n",
       "      <td>Abbott Laboratories</td>\n",
       "      <td>Health Care</td>\n",
       "    </tr>\n",
       "    <tr>\n",
       "      <th>3</th>\n",
       "      <td>ABBV</td>\n",
       "      <td>AbbVie</td>\n",
       "      <td>Health Care</td>\n",
       "    </tr>\n",
       "    <tr>\n",
       "      <th>4</th>\n",
       "      <td>ABMD</td>\n",
       "      <td>Abiomed</td>\n",
       "      <td>Health Care</td>\n",
       "    </tr>\n",
       "    <tr>\n",
       "      <th>...</th>\n",
       "      <td>...</td>\n",
       "      <td>...</td>\n",
       "      <td>...</td>\n",
       "    </tr>\n",
       "    <tr>\n",
       "      <th>500</th>\n",
       "      <td>YUM</td>\n",
       "      <td>Yum! Brands</td>\n",
       "      <td>Consumer Discretionary</td>\n",
       "    </tr>\n",
       "    <tr>\n",
       "      <th>501</th>\n",
       "      <td>ZBRA</td>\n",
       "      <td>Zebra Technologies</td>\n",
       "      <td>Information Technology</td>\n",
       "    </tr>\n",
       "    <tr>\n",
       "      <th>502</th>\n",
       "      <td>ZBH</td>\n",
       "      <td>Zimmer Biomet</td>\n",
       "      <td>Health Care</td>\n",
       "    </tr>\n",
       "    <tr>\n",
       "      <th>503</th>\n",
       "      <td>ZION</td>\n",
       "      <td>Zions Bancorp</td>\n",
       "      <td>Financials</td>\n",
       "    </tr>\n",
       "    <tr>\n",
       "      <th>504</th>\n",
       "      <td>ZTS</td>\n",
       "      <td>Zoetis</td>\n",
       "      <td>Health Care</td>\n",
       "    </tr>\n",
       "  </tbody>\n",
       "</table>\n",
       "<p>505 rows × 3 columns</p>\n",
       "</div>"
      ],
      "text/plain": [
       "        0                    1                       2\n",
       "0     MMM                   3M             Industrials\n",
       "1     AOS          A. O. Smith             Industrials\n",
       "2     ABT  Abbott Laboratories             Health Care\n",
       "3    ABBV               AbbVie             Health Care\n",
       "4    ABMD              Abiomed             Health Care\n",
       "..    ...                  ...                     ...\n",
       "500   YUM          Yum! Brands  Consumer Discretionary\n",
       "501  ZBRA   Zebra Technologies  Information Technology\n",
       "502   ZBH        Zimmer Biomet             Health Care\n",
       "503  ZION        Zions Bancorp              Financials\n",
       "504   ZTS               Zoetis             Health Care\n",
       "\n",
       "[505 rows x 3 columns]"
      ]
     },
     "execution_count": 7,
     "metadata": {},
     "output_type": "execute_result"
    }
   ],
   "source": [
    "#Recreate dataframe with properly grouped chunks\n",
    "snp500_df = pd.DataFrame(chunks)\n",
    "snp500_df"
   ]
  },
  {
   "cell_type": "code",
   "execution_count": 8,
   "id": "8b991b7b-ddd2-4eec-8cc5-4b64a24ec7e3",
   "metadata": {
    "tags": []
   },
   "outputs": [
    {
     "data": {
      "text/html": [
       "<div>\n",
       "<style scoped>\n",
       "    .dataframe tbody tr th:only-of-type {\n",
       "        vertical-align: middle;\n",
       "    }\n",
       "\n",
       "    .dataframe tbody tr th {\n",
       "        vertical-align: top;\n",
       "    }\n",
       "\n",
       "    .dataframe thead th {\n",
       "        text-align: right;\n",
       "    }\n",
       "</style>\n",
       "<table border=\"1\" class=\"dataframe\">\n",
       "  <thead>\n",
       "    <tr style=\"text-align: right;\">\n",
       "      <th></th>\n",
       "      <th>Company Ticker</th>\n",
       "      <th>Company Name</th>\n",
       "      <th>Company Industry</th>\n",
       "    </tr>\n",
       "  </thead>\n",
       "  <tbody>\n",
       "    <tr>\n",
       "      <th>0</th>\n",
       "      <td>MMM</td>\n",
       "      <td>3M</td>\n",
       "      <td>Industrials</td>\n",
       "    </tr>\n",
       "    <tr>\n",
       "      <th>1</th>\n",
       "      <td>AOS</td>\n",
       "      <td>A. O. Smith</td>\n",
       "      <td>Industrials</td>\n",
       "    </tr>\n",
       "    <tr>\n",
       "      <th>2</th>\n",
       "      <td>ABT</td>\n",
       "      <td>Abbott Laboratories</td>\n",
       "      <td>Health Care</td>\n",
       "    </tr>\n",
       "    <tr>\n",
       "      <th>3</th>\n",
       "      <td>ABBV</td>\n",
       "      <td>AbbVie</td>\n",
       "      <td>Health Care</td>\n",
       "    </tr>\n",
       "    <tr>\n",
       "      <th>4</th>\n",
       "      <td>ABMD</td>\n",
       "      <td>Abiomed</td>\n",
       "      <td>Health Care</td>\n",
       "    </tr>\n",
       "    <tr>\n",
       "      <th>...</th>\n",
       "      <td>...</td>\n",
       "      <td>...</td>\n",
       "      <td>...</td>\n",
       "    </tr>\n",
       "    <tr>\n",
       "      <th>500</th>\n",
       "      <td>YUM</td>\n",
       "      <td>Yum! Brands</td>\n",
       "      <td>Consumer Discretionary</td>\n",
       "    </tr>\n",
       "    <tr>\n",
       "      <th>501</th>\n",
       "      <td>ZBRA</td>\n",
       "      <td>Zebra Technologies</td>\n",
       "      <td>Information Technology</td>\n",
       "    </tr>\n",
       "    <tr>\n",
       "      <th>502</th>\n",
       "      <td>ZBH</td>\n",
       "      <td>Zimmer Biomet</td>\n",
       "      <td>Health Care</td>\n",
       "    </tr>\n",
       "    <tr>\n",
       "      <th>503</th>\n",
       "      <td>ZION</td>\n",
       "      <td>Zions Bancorp</td>\n",
       "      <td>Financials</td>\n",
       "    </tr>\n",
       "    <tr>\n",
       "      <th>504</th>\n",
       "      <td>ZTS</td>\n",
       "      <td>Zoetis</td>\n",
       "      <td>Health Care</td>\n",
       "    </tr>\n",
       "  </tbody>\n",
       "</table>\n",
       "<p>505 rows × 3 columns</p>\n",
       "</div>"
      ],
      "text/plain": [
       "    Company Ticker         Company Name        Company Industry\n",
       "0              MMM                   3M             Industrials\n",
       "1              AOS          A. O. Smith             Industrials\n",
       "2              ABT  Abbott Laboratories             Health Care\n",
       "3             ABBV               AbbVie             Health Care\n",
       "4             ABMD              Abiomed             Health Care\n",
       "..             ...                  ...                     ...\n",
       "500            YUM          Yum! Brands  Consumer Discretionary\n",
       "501           ZBRA   Zebra Technologies  Information Technology\n",
       "502            ZBH        Zimmer Biomet             Health Care\n",
       "503           ZION        Zions Bancorp              Financials\n",
       "504            ZTS               Zoetis             Health Care\n",
       "\n",
       "[505 rows x 3 columns]"
      ]
     },
     "execution_count": 8,
     "metadata": {},
     "output_type": "execute_result"
    }
   ],
   "source": [
    "#Create new, more descriptive column titles\n",
    "columns = [\"Company Ticker\", \"Company Name\", \"Company Industry\"]\n",
    "\n",
    "#Add columns to dataframe using .columns\n",
    "snp500_df.columns = columns\n",
    "snp500_df"
   ]
  },
  {
   "cell_type": "code",
   "execution_count": 9,
   "id": "cf99c2bc-b8b5-48bb-87c7-fcd3535105d7",
   "metadata": {},
   "outputs": [
    {
     "data": {
      "text/html": [
       "<div>\n",
       "<style scoped>\n",
       "    .dataframe tbody tr th:only-of-type {\n",
       "        vertical-align: middle;\n",
       "    }\n",
       "\n",
       "    .dataframe tbody tr th {\n",
       "        vertical-align: top;\n",
       "    }\n",
       "\n",
       "    .dataframe thead th {\n",
       "        text-align: right;\n",
       "    }\n",
       "</style>\n",
       "<table border=\"1\" class=\"dataframe\">\n",
       "  <thead>\n",
       "    <tr style=\"text-align: right;\">\n",
       "      <th></th>\n",
       "      <th>Company Name</th>\n",
       "      <th>Company Industry</th>\n",
       "    </tr>\n",
       "    <tr>\n",
       "      <th>Company Ticker</th>\n",
       "      <th></th>\n",
       "      <th></th>\n",
       "    </tr>\n",
       "  </thead>\n",
       "  <tbody>\n",
       "    <tr>\n",
       "      <th>MMM</th>\n",
       "      <td>3M</td>\n",
       "      <td>Industrials</td>\n",
       "    </tr>\n",
       "    <tr>\n",
       "      <th>AOS</th>\n",
       "      <td>A. O. Smith</td>\n",
       "      <td>Industrials</td>\n",
       "    </tr>\n",
       "    <tr>\n",
       "      <th>ABT</th>\n",
       "      <td>Abbott Laboratories</td>\n",
       "      <td>Health Care</td>\n",
       "    </tr>\n",
       "    <tr>\n",
       "      <th>ABBV</th>\n",
       "      <td>AbbVie</td>\n",
       "      <td>Health Care</td>\n",
       "    </tr>\n",
       "    <tr>\n",
       "      <th>ABMD</th>\n",
       "      <td>Abiomed</td>\n",
       "      <td>Health Care</td>\n",
       "    </tr>\n",
       "    <tr>\n",
       "      <th>...</th>\n",
       "      <td>...</td>\n",
       "      <td>...</td>\n",
       "    </tr>\n",
       "    <tr>\n",
       "      <th>YUM</th>\n",
       "      <td>Yum! Brands</td>\n",
       "      <td>Consumer Discretionary</td>\n",
       "    </tr>\n",
       "    <tr>\n",
       "      <th>ZBRA</th>\n",
       "      <td>Zebra Technologies</td>\n",
       "      <td>Information Technology</td>\n",
       "    </tr>\n",
       "    <tr>\n",
       "      <th>ZBH</th>\n",
       "      <td>Zimmer Biomet</td>\n",
       "      <td>Health Care</td>\n",
       "    </tr>\n",
       "    <tr>\n",
       "      <th>ZION</th>\n",
       "      <td>Zions Bancorp</td>\n",
       "      <td>Financials</td>\n",
       "    </tr>\n",
       "    <tr>\n",
       "      <th>ZTS</th>\n",
       "      <td>Zoetis</td>\n",
       "      <td>Health Care</td>\n",
       "    </tr>\n",
       "  </tbody>\n",
       "</table>\n",
       "<p>505 rows × 2 columns</p>\n",
       "</div>"
      ],
      "text/plain": [
       "                       Company Name        Company Industry\n",
       "Company Ticker                                             \n",
       "MMM                              3M             Industrials\n",
       "AOS                     A. O. Smith             Industrials\n",
       "ABT             Abbott Laboratories             Health Care\n",
       "ABBV                         AbbVie             Health Care\n",
       "ABMD                        Abiomed             Health Care\n",
       "...                             ...                     ...\n",
       "YUM                     Yum! Brands  Consumer Discretionary\n",
       "ZBRA             Zebra Technologies  Information Technology\n",
       "ZBH                   Zimmer Biomet             Health Care\n",
       "ZION                  Zions Bancorp              Financials\n",
       "ZTS                          Zoetis             Health Care\n",
       "\n",
       "[505 rows x 2 columns]"
      ]
     },
     "execution_count": 9,
     "metadata": {},
     "output_type": "execute_result"
    }
   ],
   "source": [
    "snp500_df.set_index(\"Company Ticker\")"
   ]
  },
  {
   "cell_type": "markdown",
   "id": "3bb8461e-edae-4434-ade4-de27f37bee70",
   "metadata": {},
   "source": [
    "## Create Filters"
   ]
  },
  {
   "cell_type": "code",
   "execution_count": 26,
   "id": "7321c325-a381-4db4-adda-d9eadb7fe6bb",
   "metadata": {},
   "outputs": [],
   "source": [
    "#Create empty lists for filters\n",
    "industrials_list = []\n",
    "health_care_list = []\n",
    "consumer_discretionary_list = []\n",
    "information_technology_list = []\n",
    "communication_services_list = []\n",
    "utilities_list = []\n",
    "financials_list = []\n",
    "materials_list = []\n",
    "real_estate_list = []\n",
    "consumer_staples_list = []\n",
    "energy_list = []"
   ]
  },
  {
   "cell_type": "code",
   "execution_count": 54,
   "id": "b2a35e73-9590-47e1-a50a-9d8366616ec6",
   "metadata": {},
   "outputs": [],
   "source": [
    "#Add all industial companies to list for filtering\n",
    "sector_list = [\"Industrials\", \n",
    "               \"Health Care\", \n",
    "               \"Consumer Discretionary\", \n",
    "               \"Information Technology\", \n",
    "               \"Communication Services\", \n",
    "               \"Utilities\", \n",
    "               \"Financials\",\n",
    "               \"Materials\",\n",
    "               \"Real Estate\",\n",
    "               \"Consumer Staples\",\n",
    "               \"Energy\"\n",
    "              ]\n",
    "\n",
    "for sector in sector_list:\n",
    "    for index, row in snp500_df.iterrows():\n",
    "        if row[2] == sector:\n",
    "            if sector == \"Industrials\":\n",
    "                industrials_list.append(row[0])\n",
    "            elif sector == \"Health Care\":\n",
    "                health_care_list.append(row[0])\n",
    "            elif sector == \"Consumer Discretionary\":\n",
    "                consumer_discretionary_list.append(row[0])\n",
    "            elif sector == \"Information Technology\":\n",
    "                information_technology_list.append(row[0])\n",
    "            elif sector == \"Communication Services\":\n",
    "                communication_services_list.append(row[0])\n",
    "            elif sector == \"Utilities\":\n",
    "                utilities_list.append(row[0])\n",
    "            elif sector == \"Financials\":\n",
    "                financials_list.append(row[0])\n",
    "            elif sector == \"Materials\":\n",
    "                materials_list.append(row[0])\n",
    "            elif sector == \"Real Estate\":\n",
    "                real_estate_list.append(row[0])\n",
    "            elif sector == \"Consumer Staples\":\n",
    "                consumer_staples_list.append(row[0])\n",
    "            elif sector == \"Energy\":\n",
    "                energy_list.append(row[0])"
   ]
  },
  {
   "cell_type": "code",
   "execution_count": 55,
   "id": "229541e0-5852-4f61-a322-8132a6cf8f30",
   "metadata": {},
   "outputs": [
    {
     "name": "stdout",
     "output_type": "stream",
     "text": [
      "['MMM', 'AOS', 'ALK', 'ALLE', 'AAL']\n"
     ]
    }
   ],
   "source": [
    "#Display first 5 items in industrials list\n",
    "print(industrials_list[:5])"
   ]
  },
  {
   "cell_type": "code",
   "execution_count": 56,
   "id": "cb78636c-ef00-4908-93a2-e34180c206fe",
   "metadata": {},
   "outputs": [
    {
     "name": "stdout",
     "output_type": "stream",
     "text": [
      "['ABT', 'ABBV', 'ABMD', 'A', 'ALGN']\n"
     ]
    }
   ],
   "source": [
    "#Display first 5 items in health care list\n",
    "print(health_care_list[:5])"
   ]
  },
  {
   "cell_type": "code",
   "execution_count": 57,
   "id": "5c8a7d26-2b34-4d23-b2dd-cb7539e0dda5",
   "metadata": {
    "tags": []
   },
   "outputs": [
    {
     "name": "stdout",
     "output_type": "stream",
     "text": [
      "['AAP', 'AMZN', 'APTV', 'AZO', 'BBWI']\n"
     ]
    }
   ],
   "source": [
    "#Display first 5 items in consumer discretionary list\n",
    "print(consumer_discretionary_list[:5])"
   ]
  },
  {
   "cell_type": "code",
   "execution_count": 58,
   "id": "8c9baf51-743d-4e71-a36e-af545d4a2664",
   "metadata": {},
   "outputs": [
    {
     "name": "stdout",
     "output_type": "stream",
     "text": [
      "['ACN', 'ADBE', 'AMD', 'AKAM', 'APH']\n"
     ]
    }
   ],
   "source": [
    "#Display first 5 items in information technology list\n",
    "print(information_technology_list[:5])"
   ]
  },
  {
   "cell_type": "code",
   "execution_count": 59,
   "id": "9b220914-bb33-4d5e-aed2-542baee27c25",
   "metadata": {},
   "outputs": [
    {
     "name": "stdout",
     "output_type": "stream",
     "text": [
      "['ATVI', 'GOOGL', 'GOOG', 'T', 'CHTR']\n"
     ]
    }
   ],
   "source": [
    "#Display first 5 items in communication services list\n",
    "print(communication_services_list[:5])"
   ]
  },
  {
   "cell_type": "code",
   "execution_count": 60,
   "id": "58701537-346f-4fe9-b268-edd00fe9990c",
   "metadata": {},
   "outputs": [
    {
     "name": "stdout",
     "output_type": "stream",
     "text": [
      "['AES', 'LNT', 'AEE', 'AEP', 'AWK']\n"
     ]
    }
   ],
   "source": [
    "#Display first 5 items in utilities list\n",
    "print(utilities_list[:5])"
   ]
  },
  {
   "cell_type": "code",
   "execution_count": 61,
   "id": "636c9741-396b-48db-ae8d-abed5fafed7a",
   "metadata": {},
   "outputs": [
    {
     "name": "stdout",
     "output_type": "stream",
     "text": [
      "['AFL', 'ALL', 'AXP', 'AIG', 'AMP']\n"
     ]
    }
   ],
   "source": [
    "#Display first 5 items in financials list\n",
    "print(financials_list[:5])"
   ]
  },
  {
   "cell_type": "code",
   "execution_count": 62,
   "id": "ab9ec586-3545-4b0a-9fe0-c0e000e98d71",
   "metadata": {},
   "outputs": [
    {
     "name": "stdout",
     "output_type": "stream",
     "text": [
      "['APD', 'ALB', 'AMCR', 'AVY', 'BLL']\n"
     ]
    }
   ],
   "source": [
    "#Display first 5 items in materials list\n",
    "print(materials_list[:5])"
   ]
  },
  {
   "cell_type": "code",
   "execution_count": 63,
   "id": "808d261f-00bd-4a4a-b8c0-a201baf15bd6",
   "metadata": {},
   "outputs": [
    {
     "name": "stdout",
     "output_type": "stream",
     "text": [
      "['ARE', 'AMT', 'AVB', 'BXP', 'CBRE']\n"
     ]
    }
   ],
   "source": [
    "#Display first 5 items in real estate list\n",
    "print(real_estate_list[:5])"
   ]
  },
  {
   "cell_type": "code",
   "execution_count": 64,
   "id": "4fd41b40-546f-458b-8221-cd03f66a86b3",
   "metadata": {},
   "outputs": [
    {
     "name": "stdout",
     "output_type": "stream",
     "text": [
      "['ADM', 'MO', 'BF.B', 'CPB', 'CHD']\n"
     ]
    }
   ],
   "source": [
    "#Display first 5 items in consumer staples list\n",
    "print(consumer_staples_list[:5])"
   ]
  },
  {
   "cell_type": "code",
   "execution_count": 65,
   "id": "9812fb9b-d890-4ce8-b43e-712456e66ad9",
   "metadata": {
    "tags": []
   },
   "outputs": [
    {
     "name": "stdout",
     "output_type": "stream",
     "text": [
      "['APA', 'BKR', 'CVX', 'COP', 'CTRA']\n"
     ]
    }
   ],
   "source": [
    "#Display first 5 items in energy list\n",
    "print(energy_list[:5])"
   ]
  }
 ],
 "metadata": {
  "kernelspec": {
   "display_name": "Python 3 (ipykernel)",
   "language": "python",
   "name": "python3"
  },
  "language_info": {
   "codemirror_mode": {
    "name": "ipython",
    "version": 3
   },
   "file_extension": ".py",
   "mimetype": "text/x-python",
   "name": "python",
   "nbconvert_exporter": "python",
   "pygments_lexer": "ipython3",
   "version": "3.7.11"
  }
 },
 "nbformat": 4,
 "nbformat_minor": 5
}
